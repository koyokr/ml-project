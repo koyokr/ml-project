{
 "metadata": {
  "language_info": {
   "codemirror_mode": {
    "name": "ipython",
    "version": 3
   },
   "file_extension": ".py",
   "mimetype": "text/x-python",
   "name": "python",
   "nbconvert_exporter": "python",
   "pygments_lexer": "ipython3",
   "version": "3.9.2"
  },
  "orig_nbformat": 4,
  "kernelspec": {
   "name": "python3",
   "display_name": "Python 3.9.2 64-bit ('ml': conda)"
  },
  "interpreter": {
   "hash": "c108d6b90a591ac5531be26b2a81f2a8576297176632c001c938a8f2239ed923"
  }
 },
 "nbformat": 4,
 "nbformat_minor": 2,
 "cells": [
  {
   "cell_type": "code",
   "execution_count": 1,
   "metadata": {},
   "outputs": [],
   "source": [
    "from pathlib import Path\n",
    "\n",
    "import matplotlib.pyplot as plt\n",
    "import numpy as np\n",
    "import pandas as pd\n",
    "import seaborn as sns\n",
    "from sklearn.decomposition import PCA\n",
    "from sklearn.metrics import classification_report\n",
    "from sklearn.model_selection import train_test_split\n",
    "from sklearn.preprocessing import MinMaxScaler\n",
    "\n",
    "import torch\n",
    "import torch.nn as nn\n",
    "import torch.nn.functional as F\n",
    "import torch.optim as optim\n",
    "import torchvision.transforms as transforms\n",
    "from torch.utils.data import Dataset, DataLoader"
   ]
  },
  {
   "cell_type": "code",
   "execution_count": 2,
   "metadata": {},
   "outputs": [],
   "source": [
    "is_mlp = True\n",
    "\n",
    "motions = ('LR', 'RL', 'CW', 'CCW')\n",
    "persons = ('CJW', 'JSI', 'KB', 'KJY', 'KME', 'PJS')\n",
    "\n",
    "base_dir = Path().resolve().absolute()\n",
    "data_dir = base_dir / 'Data4(500 frame) - (training data) - (Only A-B) - (80 item)'"
   ]
  },
  {
   "cell_type": "code",
   "execution_count": 3,
   "metadata": {},
   "outputs": [],
   "source": [
    "class2idx = {x: i for i, x in enumerate(motions)}\n",
    "idx2class = {v: k for k, v in class2idx.items()}\n",
    "\n",
    "dfs = []\n",
    "for motion in motions:\n",
    "    for person in persons:\n",
    "        for x in data_dir.glob(f'*.{motion}/{person}/A-B/*.csv'):\n",
    "            df = pd.read_csv(x, header=None).transpose()\n",
    "            # df['person'] = person\n",
    "            df['motion'] = motion\n",
    "            dfs.append(df)\n",
    "df = pd.concat(dfs, ignore_index=True)\n",
    "df['motion'].replace(class2idx, inplace=True)"
   ]
  },
  {
   "cell_type": "code",
   "execution_count": 4,
   "metadata": {},
   "outputs": [],
   "source": [
    "X = df.iloc[:, 0:-1]\n",
    "y = df.iloc[:, -1]"
   ]
  },
  {
   "cell_type": "code",
   "execution_count": 5,
   "metadata": {},
   "outputs": [],
   "source": [
    "X_train = X\n",
    "y_train = y"
   ]
  },
  {
   "cell_type": "code",
   "execution_count": 6,
   "metadata": {},
   "outputs": [],
   "source": [
    "if is_mlp:\n",
    "    pca = PCA(25)\n",
    "    X_train = pca.fit_transform(X_train)\n",
    "\n",
    "scaler = MinMaxScaler()\n",
    "X_train = scaler.fit_transform(X_train)\n",
    "\n",
    "X_train, y_train = np.array(X_train), np.array(y_train)"
   ]
  },
  {
   "cell_type": "code",
   "execution_count": 7,
   "metadata": {},
   "outputs": [],
   "source": [
    "class ClassifierDataset(Dataset):\n",
    "    def __init__(self, X, y):\n",
    "        self.data = X\n",
    "        self.target = y\n",
    "    \n",
    "    def __getitem__(self, index):\n",
    "        return self.data[index], self.target[index]\n",
    "    \n",
    "    def __len__(self):\n",
    "        return len(self.data)"
   ]
  },
  {
   "cell_type": "code",
   "execution_count": 8,
   "metadata": {},
   "outputs": [],
   "source": [
    "train_dataset = ClassifierDataset(torch.from_numpy(X_train).float(), torch.from_numpy(y_train).long())"
   ]
  },
  {
   "cell_type": "code",
   "execution_count": 9,
   "metadata": {},
   "outputs": [],
   "source": [
    "EPOCHS = 100\n",
    "BATCH_SIZE = 16\n",
    "LEARNING_RATE = 0.001\n",
    "\n",
    "NUM_FEATURES = len(X.columns)\n",
    "NUM_CLASSES = len(class2idx)\n",
    "\n",
    "if is_mlp:\n",
    "    NUM_FEATURES = 25"
   ]
  },
  {
   "cell_type": "code",
   "execution_count": 10,
   "metadata": {},
   "outputs": [],
   "source": [
    "train_loader = DataLoader(dataset=train_dataset, batch_size=BATCH_SIZE)"
   ]
  },
  {
   "cell_type": "code",
   "execution_count": 11,
   "metadata": {},
   "outputs": [],
   "source": [
    "class MLP(nn.Module):\n",
    "    def __init__(self, num_feature, num_class):\n",
    "        super().__init__()\n",
    "        \n",
    "        self.layer_1 = nn.Linear(num_feature, 512)\n",
    "        self.layer_2 = nn.Linear(512, 256)\n",
    "        self.layer_3 = nn.Linear(256, 128)\n",
    "        self.layer_4 = nn.Linear(128, 64)\n",
    "        self.layer_out = nn.Linear(64, num_class)\n",
    "        \n",
    "        self.mish = nn.Mish()\n",
    "        self.dropout = nn.Dropout(p=0.25)\n",
    "        self.batchnorm1 = nn.BatchNorm1d(512)\n",
    "        self.batchnorm2 = nn.BatchNorm1d(256)\n",
    "        self.batchnorm3 = nn.BatchNorm1d(128)\n",
    "        self.batchnorm4 = nn.BatchNorm1d(64)\n",
    "        \n",
    "    def forward(self, x):\n",
    "        x = self.layer_1(x)\n",
    "        x = self.batchnorm1(x)\n",
    "        x = self.mish(x)\n",
    "        \n",
    "        x = self.layer_2(x)\n",
    "        x = self.batchnorm2(x)\n",
    "        x = self.mish(x)\n",
    "        x = self.dropout(x)\n",
    "        \n",
    "        x = self.layer_3(x)\n",
    "        x = self.batchnorm3(x)\n",
    "        x = self.mish(x)\n",
    "        x = self.dropout(x)\n",
    "        \n",
    "        x = self.layer_4(x)\n",
    "        x = self.batchnorm4(x)\n",
    "        x = self.mish(x)\n",
    "        x = self.dropout(x)\n",
    "        \n",
    "        x = self.layer_out(x)\n",
    "        return x"
   ]
  },
  {
   "cell_type": "code",
   "execution_count": 12,
   "metadata": {},
   "outputs": [],
   "source": [
    "class CNN(nn.Module):\n",
    "    def __init__(self, num_feature, num_class):\n",
    "        super().__init__()\n",
    "        # -> 5@248 -> 5@124\n",
    "        self.conv1 = nn.Conv1d(1, 5, 5, 2)\n",
    "        self.norm1 = nn.BatchNorm1d(5)\n",
    "        self.pool1 = nn.AvgPool1d(2, 2)\n",
    "        # -> 20@60 -> 20@30\n",
    "        self.conv2 = nn.Conv1d(5, 20, 5, 2)\n",
    "        self.norm2 = nn.BatchNorm1d(20)\n",
    "        self.pool2 = nn.AvgPool1d(2, 2)\n",
    "        # -> 5@28 -> 5@14\n",
    "        self.conv3 = nn.Conv1d(20, 5, 3)\n",
    "        self.norm3 = nn.BatchNorm1d(5)\n",
    "        self.pool3 = nn.AvgPool1d(2, 2)\n",
    "\n",
    "        self.relu = nn.ReLU()\n",
    "        self.dropout = nn.Dropout(0.5)\n",
    "        self.fc1 = nn.Linear(5 * 14, 128)\n",
    "        self.fc2 = nn.Linear(128, num_class)\n",
    "    \n",
    "    def forward(self, x):\n",
    "        x = x.unsqueeze(dim=1)\n",
    "        x = self.pool1(self.relu(self.norm1(self.conv1(x))))\n",
    "        x = self.pool2(self.relu(self.norm2(self.conv2(x))))\n",
    "        x = self.pool3(self.relu(self.norm3(self.conv3(x))))\n",
    "        x = x.view(x.size(0), -1)\n",
    "        x = self.fc1(x)\n",
    "        x = self.dropout(x)\n",
    "        x = self.fc2(x)\n",
    "        return x"
   ]
  },
  {
   "cell_type": "code",
   "execution_count": 13,
   "metadata": {},
   "outputs": [
    {
     "output_type": "stream",
     "name": "stdout",
     "text": [
      "cuda:0\n"
     ]
    }
   ],
   "source": [
    "device = torch.device('cuda:0' if torch.cuda.is_available() else 'cpu')\n",
    "print(device)"
   ]
  },
  {
   "cell_type": "code",
   "execution_count": 14,
   "metadata": {},
   "outputs": [
    {
     "output_type": "stream",
     "name": "stdout",
     "text": [
      "MLP(\n  (layer_1): Linear(in_features=25, out_features=512, bias=True)\n  (layer_2): Linear(in_features=512, out_features=256, bias=True)\n  (layer_3): Linear(in_features=256, out_features=128, bias=True)\n  (layer_4): Linear(in_features=128, out_features=64, bias=True)\n  (layer_out): Linear(in_features=64, out_features=4, bias=True)\n  (mish): Mish()\n  (dropout): Dropout(p=0.25, inplace=False)\n  (batchnorm1): BatchNorm1d(512, eps=1e-05, momentum=0.1, affine=True, track_running_stats=True)\n  (batchnorm2): BatchNorm1d(256, eps=1e-05, momentum=0.1, affine=True, track_running_stats=True)\n  (batchnorm3): BatchNorm1d(128, eps=1e-05, momentum=0.1, affine=True, track_running_stats=True)\n  (batchnorm4): BatchNorm1d(64, eps=1e-05, momentum=0.1, affine=True, track_running_stats=True)\n)\n"
     ]
    }
   ],
   "source": [
    "if is_mlp:\n",
    "    model = MLP(num_feature=NUM_FEATURES, num_class=NUM_CLASSES)\n",
    "else:\n",
    "    model = CNN(num_feature=NUM_FEATURES, num_class=NUM_CLASSES)\n",
    "model.to(device)\n",
    "\n",
    "criterion = nn.CrossEntropyLoss()\n",
    "optimizer = optim.Adam(model.parameters(), lr=LEARNING_RATE)\n",
    "print(model)"
   ]
  },
  {
   "cell_type": "code",
   "execution_count": 15,
   "metadata": {},
   "outputs": [],
   "source": [
    "def multi_acc(y_pred, y_test):\n",
    "    y_pred_softmax = torch.log_softmax(y_pred, dim=1)\n",
    "    _, y_pred_tags = torch.max(y_pred_softmax, dim=1)\n",
    "    correct_pred = (y_pred_tags == y_test).float()\n",
    "    acc = correct_pred.sum() / len(correct_pred)\n",
    "    acc = torch.round(acc * 100)\n",
    "    return acc"
   ]
  },
  {
   "cell_type": "code",
   "execution_count": 16,
   "metadata": {},
   "outputs": [],
   "source": [
    "accuracy_stats = {\n",
    "    'train': [],\n",
    "}\n",
    "loss_stats = {\n",
    "    'train': [],\n",
    "}"
   ]
  },
  {
   "cell_type": "code",
   "execution_count": 17,
   "metadata": {
    "tags": []
   },
   "outputs": [
    {
     "output_type": "stream",
     "name": "stdout",
     "text": [
      "Begin training.\n",
      "Epoch 001: | Train Loss: 1.60432 | Train Acc: 15.100\n",
      "Epoch 002: | Train Loss: 1.52197 | Train Acc: 15.317\n",
      "Epoch 003: | Train Loss: 1.51272 | Train Acc: 13.617\n",
      "Epoch 004: | Train Loss: 1.50229 | Train Acc: 12.408\n",
      "Epoch 005: | Train Loss: 1.48488 | Train Acc: 12.608\n",
      "Epoch 006: | Train Loss: 1.47402 | Train Acc: 14.542\n",
      "Epoch 007: | Train Loss: 1.45935 | Train Acc: 14.358\n",
      "Epoch 008: | Train Loss: 1.44607 | Train Acc: 15.692\n",
      "Epoch 009: | Train Loss: 1.43979 | Train Acc: 16.092\n",
      "Epoch 010: | Train Loss: 1.43368 | Train Acc: 15.517\n",
      "Epoch 011: | Train Loss: 1.42741 | Train Acc: 17.283\n",
      "Epoch 012: | Train Loss: 1.41866 | Train Acc: 19.383\n",
      "Epoch 013: | Train Loss: 1.41560 | Train Acc: 19.000\n",
      "Epoch 014: | Train Loss: 1.40942 | Train Acc: 20.817\n",
      "Epoch 015: | Train Loss: 1.40501 | Train Acc: 22.933\n",
      "Epoch 016: | Train Loss: 1.40136 | Train Acc: 23.717\n",
      "Epoch 017: | Train Loss: 1.39954 | Train Acc: 27.075\n",
      "Epoch 018: | Train Loss: 1.39276 | Train Acc: 27.342\n",
      "Epoch 019: | Train Loss: 1.38912 | Train Acc: 29.133\n",
      "Epoch 020: | Train Loss: 1.38465 | Train Acc: 29.833\n",
      "Epoch 021: | Train Loss: 1.38391 | Train Acc: 33.317\n",
      "Epoch 022: | Train Loss: 1.37735 | Train Acc: 32.483\n",
      "Epoch 023: | Train Loss: 1.36636 | Train Acc: 34.992\n",
      "Epoch 024: | Train Loss: 1.36545 | Train Acc: 36.333\n",
      "Epoch 025: | Train Loss: 1.34973 | Train Acc: 36.525\n",
      "Epoch 026: | Train Loss: 1.34162 | Train Acc: 36.708\n",
      "Epoch 027: | Train Loss: 1.32493 | Train Acc: 39.083\n",
      "Epoch 028: | Train Loss: 1.30255 | Train Acc: 42.292\n",
      "Epoch 029: | Train Loss: 1.28011 | Train Acc: 42.617\n",
      "Epoch 030: | Train Loss: 1.25032 | Train Acc: 45.133\n",
      "Epoch 031: | Train Loss: 1.22655 | Train Acc: 47.800\n",
      "Epoch 032: | Train Loss: 1.16922 | Train Acc: 53.683\n",
      "Epoch 033: | Train Loss: 1.11530 | Train Acc: 56.333\n",
      "Epoch 034: | Train Loss: 1.05876 | Train Acc: 61.967\n",
      "Epoch 035: | Train Loss: 1.01776 | Train Acc: 62.008\n",
      "Epoch 036: | Train Loss: 0.92654 | Train Acc: 67.458\n",
      "Epoch 037: | Train Loss: 0.86142 | Train Acc: 71.533\n",
      "Epoch 038: | Train Loss: 0.82047 | Train Acc: 73.483\n",
      "Epoch 039: | Train Loss: 0.73339 | Train Acc: 77.850\n",
      "Epoch 040: | Train Loss: 0.66922 | Train Acc: 80.158\n",
      "Epoch 041: | Train Loss: 0.61055 | Train Acc: 82.275\n",
      "Epoch 042: | Train Loss: 0.56034 | Train Acc: 84.392\n",
      "Epoch 043: | Train Loss: 0.51167 | Train Acc: 86.350\n",
      "Epoch 044: | Train Loss: 0.45012 | Train Acc: 88.142\n",
      "Epoch 045: | Train Loss: 0.39672 | Train Acc: 91.092\n",
      "Epoch 046: | Train Loss: 0.34891 | Train Acc: 91.992\n",
      "Epoch 047: | Train Loss: 0.31090 | Train Acc: 92.783\n",
      "Epoch 048: | Train Loss: 0.28313 | Train Acc: 94.108\n",
      "Epoch 049: | Train Loss: 0.25535 | Train Acc: 95.033\n",
      "Epoch 050: | Train Loss: 0.24287 | Train Acc: 94.550\n",
      "Epoch 051: | Train Loss: 0.22138 | Train Acc: 95.317\n",
      "Epoch 052: | Train Loss: 0.20748 | Train Acc: 95.142\n",
      "Epoch 053: | Train Loss: 0.18505 | Train Acc: 95.950\n",
      "Epoch 054: | Train Loss: 0.16925 | Train Acc: 96.508\n",
      "Epoch 055: | Train Loss: 0.16873 | Train Acc: 95.908\n",
      "Epoch 056: | Train Loss: 0.16250 | Train Acc: 95.708\n",
      "Epoch 057: | Train Loss: 0.13778 | Train Acc: 97.042\n",
      "Epoch 058: | Train Loss: 0.12469 | Train Acc: 97.683\n",
      "Epoch 059: | Train Loss: 0.12527 | Train Acc: 97.142\n",
      "Epoch 060: | Train Loss: 0.10653 | Train Acc: 97.633\n",
      "Epoch 061: | Train Loss: 0.09283 | Train Acc: 98.092\n",
      "Epoch 062: | Train Loss: 0.08750 | Train Acc: 98.392\n",
      "Epoch 063: | Train Loss: 0.08090 | Train Acc: 98.550\n",
      "Epoch 064: | Train Loss: 0.06910 | Train Acc: 98.742\n",
      "Epoch 065: | Train Loss: 0.07647 | Train Acc: 98.500\n",
      "Epoch 066: | Train Loss: 0.07140 | Train Acc: 98.442\n",
      "Epoch 067: | Train Loss: 0.07317 | Train Acc: 98.392\n",
      "Epoch 068: | Train Loss: 0.06832 | Train Acc: 98.800\n",
      "Epoch 069: | Train Loss: 0.07445 | Train Acc: 98.392\n",
      "Epoch 070: | Train Loss: 0.07486 | Train Acc: 98.300\n",
      "Epoch 071: | Train Loss: 0.07830 | Train Acc: 98.083\n",
      "Epoch 072: | Train Loss: 0.07204 | Train Acc: 98.500\n",
      "Epoch 073: | Train Loss: 0.07442 | Train Acc: 98.175\n",
      "Epoch 074: | Train Loss: 0.06433 | Train Acc: 98.742\n",
      "Epoch 075: | Train Loss: 0.05181 | Train Acc: 99.050\n",
      "Epoch 076: | Train Loss: 0.04849 | Train Acc: 98.892\n",
      "Epoch 077: | Train Loss: 0.04301 | Train Acc: 99.400\n",
      "Epoch 078: | Train Loss: 0.04558 | Train Acc: 99.150\n",
      "Epoch 079: | Train Loss: 0.03933 | Train Acc: 99.100\n",
      "Epoch 080: | Train Loss: 0.04388 | Train Acc: 98.950\n",
      "Epoch 081: | Train Loss: 0.04053 | Train Acc: 99.000\n",
      "Epoch 082: | Train Loss: 0.03298 | Train Acc: 99.250\n",
      "Epoch 083: | Train Loss: 0.03026 | Train Acc: 99.450\n",
      "Epoch 084: | Train Loss: 0.03098 | Train Acc: 99.450\n",
      "Epoch 085: | Train Loss: 0.02917 | Train Acc: 99.400\n",
      "Epoch 086: | Train Loss: 0.02476 | Train Acc: 99.650\n",
      "Epoch 087: | Train Loss: 0.02828 | Train Acc: 99.350\n",
      "Epoch 088: | Train Loss: 0.03340 | Train Acc: 99.300\n",
      "Epoch 089: | Train Loss: 0.03115 | Train Acc: 98.992\n",
      "Epoch 090: | Train Loss: 0.02879 | Train Acc: 99.350\n",
      "Epoch 091: | Train Loss: 0.02686 | Train Acc: 99.400\n",
      "Epoch 092: | Train Loss: 0.03205 | Train Acc: 99.200\n",
      "Epoch 093: | Train Loss: 0.01920 | Train Acc: 99.800\n",
      "Epoch 094: | Train Loss: 0.03565 | Train Acc: 99.092\n",
      "Epoch 095: | Train Loss: 0.25806 | Train Acc: 93.308\n",
      "Epoch 096: | Train Loss: 0.27481 | Train Acc: 91.150\n",
      "Epoch 097: | Train Loss: 0.07547 | Train Acc: 97.767\n",
      "Epoch 098: | Train Loss: 0.03755 | Train Acc: 98.892\n",
      "Epoch 099: | Train Loss: 0.03585 | Train Acc: 99.100\n",
      "Epoch 100: | Train Loss: 0.02223 | Train Acc: 99.600\n"
     ]
    }
   ],
   "source": [
    "print(\"Begin training.\")\n",
    "for e in range(1, EPOCHS+1):\n",
    "    # TRAINING\n",
    "    train_epoch_loss = 0\n",
    "    train_epoch_acc = 0\n",
    "    model.train()\n",
    "    for X_train_batch, y_train_batch in train_loader:\n",
    "        X_train_batch, y_train_batch = X_train_batch.to(device), y_train_batch.to(device)\n",
    "        optimizer.zero_grad()\n",
    "        y_train_pred = model(X_train_batch)\n",
    "        train_loss = criterion(y_train_pred, y_train_batch)\n",
    "        train_acc = multi_acc(y_train_pred, y_train_batch)\n",
    "        train_loss.backward()\n",
    "        optimizer.step()\n",
    "        train_epoch_loss += train_loss.item()\n",
    "        train_epoch_acc += train_acc.item()\n",
    "    loss_stats['train'].append(train_epoch_loss/len(train_loader))\n",
    "    accuracy_stats['train'].append(train_epoch_acc/len(train_loader))\n",
    "\n",
    "    print(f'Epoch {e+0:03}: | Train Loss: {train_epoch_loss/len(train_loader):.5f} | Train Acc: {train_epoch_acc/len(train_loader):.3f}')"
   ]
  },
  {
   "cell_type": "code",
   "execution_count": 18,
   "metadata": {},
   "outputs": [
    {
     "output_type": "execute_result",
     "data": {
      "text/plain": [
       "Text(0.5, 1.0, 'Train Loss/Epoch')"
      ]
     },
     "metadata": {},
     "execution_count": 18
    },
    {
     "output_type": "display_data",
     "data": {
      "text/plain": "<Figure size 1440x504 with 2 Axes>",
      "image/svg+xml": "<?xml version=\"1.0\" encoding=\"utf-8\" standalone=\"no\"?>\r\n<!DOCTYPE svg PUBLIC \"-//W3C//DTD SVG 1.1//EN\"\r\n  \"http://www.w3.org/Graphics/SVG/1.1/DTD/svg11.dtd\">\r\n<svg height=\"440.394375pt\" version=\"1.1\" viewBox=\"0 0 1170.165625 440.394375\" width=\"1170.165625pt\" xmlns=\"http://www.w3.org/2000/svg\" xmlns:xlink=\"http://www.w3.org/1999/xlink\">\r\n <metadata>\r\n  <rdf:RDF xmlns:cc=\"http://creativecommons.org/ns#\" xmlns:dc=\"http://purl.org/dc/elements/1.1/\" xmlns:rdf=\"http://www.w3.org/1999/02/22-rdf-syntax-ns#\">\r\n   <cc:Work>\r\n    <dc:type rdf:resource=\"http://purl.org/dc/dcmitype/StillImage\"/>\r\n    <dc:date>2021-06-23T20:56:32.229745</dc:date>\r\n    <dc:format>image/svg+xml</dc:format>\r\n    <dc:creator>\r\n     <cc:Agent>\r\n      <dc:title>Matplotlib v3.4.1, https://matplotlib.org/</dc:title>\r\n     </cc:Agent>\r\n    </dc:creator>\r\n   </cc:Work>\r\n  </rdf:RDF>\r\n </metadata>\r\n <defs>\r\n  <style type=\"text/css\">*{stroke-linecap:butt;stroke-linejoin:round;}</style>\r\n </defs>\r\n <g id=\"figure_1\">\r\n  <g id=\"patch_1\">\r\n   <path d=\"M 0 440.394375 \r\nL 1170.165625 440.394375 \r\nL 1170.165625 0 \r\nL 0 0 \r\nz\r\n\" style=\"fill:none;\"/>\r\n  </g>\r\n  <g id=\"axes_1\">\r\n   <g id=\"patch_2\">\r\n    <path d=\"M 46.965625 402.838125 \r\nL 554.238352 402.838125 \r\nL 554.238352 22.318125 \r\nL 46.965625 22.318125 \r\nz\r\n\" style=\"fill:#ffffff;\"/>\r\n   </g>\r\n   <g id=\"matplotlib.axis_1\">\r\n    <g id=\"xtick_1\">\r\n     <g id=\"line2d_1\">\r\n      <defs>\r\n       <path d=\"M 0 0 \r\nL 0 3.5 \r\n\" id=\"ma511f7b33d\" style=\"stroke:#000000;stroke-width:0.8;\"/>\r\n      </defs>\r\n      <g>\r\n       <use style=\"stroke:#000000;stroke-width:0.8;\" x=\"70.023476\" xlink:href=\"#ma511f7b33d\" y=\"402.838125\"/>\r\n      </g>\r\n     </g>\r\n     <g id=\"text_1\">\r\n      <!-- 0 -->\r\n      <g transform=\"translate(66.842226 417.436562)scale(0.1 -0.1)\">\r\n       <defs>\r\n        <path d=\"M 2034 4250 \r\nQ 1547 4250 1301 3770 \r\nQ 1056 3291 1056 2328 \r\nQ 1056 1369 1301 889 \r\nQ 1547 409 2034 409 \r\nQ 2525 409 2770 889 \r\nQ 3016 1369 3016 2328 \r\nQ 3016 3291 2770 3770 \r\nQ 2525 4250 2034 4250 \r\nz\r\nM 2034 4750 \r\nQ 2819 4750 3233 4129 \r\nQ 3647 3509 3647 2328 \r\nQ 3647 1150 3233 529 \r\nQ 2819 -91 2034 -91 \r\nQ 1250 -91 836 529 \r\nQ 422 1150 422 2328 \r\nQ 422 3509 836 4129 \r\nQ 1250 4750 2034 4750 \r\nz\r\n\" id=\"DejaVuSans-30\" transform=\"scale(0.015625)\"/>\r\n       </defs>\r\n       <use xlink:href=\"#DejaVuSans-30\"/>\r\n      </g>\r\n     </g>\r\n    </g>\r\n    <g id=\"xtick_2\">\r\n     <g id=\"line2d_2\">\r\n      <g>\r\n       <use style=\"stroke:#000000;stroke-width:0.8;\" x=\"163.186512\" xlink:href=\"#ma511f7b33d\" y=\"402.838125\"/>\r\n      </g>\r\n     </g>\r\n     <g id=\"text_2\">\r\n      <!-- 20 -->\r\n      <g transform=\"translate(156.824012 417.436562)scale(0.1 -0.1)\">\r\n       <defs>\r\n        <path d=\"M 1228 531 \r\nL 3431 531 \r\nL 3431 0 \r\nL 469 0 \r\nL 469 531 \r\nQ 828 903 1448 1529 \r\nQ 2069 2156 2228 2338 \r\nQ 2531 2678 2651 2914 \r\nQ 2772 3150 2772 3378 \r\nQ 2772 3750 2511 3984 \r\nQ 2250 4219 1831 4219 \r\nQ 1534 4219 1204 4116 \r\nQ 875 4013 500 3803 \r\nL 500 4441 \r\nQ 881 4594 1212 4672 \r\nQ 1544 4750 1819 4750 \r\nQ 2544 4750 2975 4387 \r\nQ 3406 4025 3406 3419 \r\nQ 3406 3131 3298 2873 \r\nQ 3191 2616 2906 2266 \r\nQ 2828 2175 2409 1742 \r\nQ 1991 1309 1228 531 \r\nz\r\n\" id=\"DejaVuSans-32\" transform=\"scale(0.015625)\"/>\r\n       </defs>\r\n       <use xlink:href=\"#DejaVuSans-32\"/>\r\n       <use x=\"63.623047\" xlink:href=\"#DejaVuSans-30\"/>\r\n      </g>\r\n     </g>\r\n    </g>\r\n    <g id=\"xtick_3\">\r\n     <g id=\"line2d_3\">\r\n      <g>\r\n       <use style=\"stroke:#000000;stroke-width:0.8;\" x=\"256.349547\" xlink:href=\"#ma511f7b33d\" y=\"402.838125\"/>\r\n      </g>\r\n     </g>\r\n     <g id=\"text_3\">\r\n      <!-- 40 -->\r\n      <g transform=\"translate(249.987047 417.436562)scale(0.1 -0.1)\">\r\n       <defs>\r\n        <path d=\"M 2419 4116 \r\nL 825 1625 \r\nL 2419 1625 \r\nL 2419 4116 \r\nz\r\nM 2253 4666 \r\nL 3047 4666 \r\nL 3047 1625 \r\nL 3713 1625 \r\nL 3713 1100 \r\nL 3047 1100 \r\nL 3047 0 \r\nL 2419 0 \r\nL 2419 1100 \r\nL 313 1100 \r\nL 313 1709 \r\nL 2253 4666 \r\nz\r\n\" id=\"DejaVuSans-34\" transform=\"scale(0.015625)\"/>\r\n       </defs>\r\n       <use xlink:href=\"#DejaVuSans-34\"/>\r\n       <use x=\"63.623047\" xlink:href=\"#DejaVuSans-30\"/>\r\n      </g>\r\n     </g>\r\n    </g>\r\n    <g id=\"xtick_4\">\r\n     <g id=\"line2d_4\">\r\n      <g>\r\n       <use style=\"stroke:#000000;stroke-width:0.8;\" x=\"349.512582\" xlink:href=\"#ma511f7b33d\" y=\"402.838125\"/>\r\n      </g>\r\n     </g>\r\n     <g id=\"text_4\">\r\n      <!-- 60 -->\r\n      <g transform=\"translate(343.150082 417.436562)scale(0.1 -0.1)\">\r\n       <defs>\r\n        <path d=\"M 2113 2584 \r\nQ 1688 2584 1439 2293 \r\nQ 1191 2003 1191 1497 \r\nQ 1191 994 1439 701 \r\nQ 1688 409 2113 409 \r\nQ 2538 409 2786 701 \r\nQ 3034 994 3034 1497 \r\nQ 3034 2003 2786 2293 \r\nQ 2538 2584 2113 2584 \r\nz\r\nM 3366 4563 \r\nL 3366 3988 \r\nQ 3128 4100 2886 4159 \r\nQ 2644 4219 2406 4219 \r\nQ 1781 4219 1451 3797 \r\nQ 1122 3375 1075 2522 \r\nQ 1259 2794 1537 2939 \r\nQ 1816 3084 2150 3084 \r\nQ 2853 3084 3261 2657 \r\nQ 3669 2231 3669 1497 \r\nQ 3669 778 3244 343 \r\nQ 2819 -91 2113 -91 \r\nQ 1303 -91 875 529 \r\nQ 447 1150 447 2328 \r\nQ 447 3434 972 4092 \r\nQ 1497 4750 2381 4750 \r\nQ 2619 4750 2861 4703 \r\nQ 3103 4656 3366 4563 \r\nz\r\n\" id=\"DejaVuSans-36\" transform=\"scale(0.015625)\"/>\r\n       </defs>\r\n       <use xlink:href=\"#DejaVuSans-36\"/>\r\n       <use x=\"63.623047\" xlink:href=\"#DejaVuSans-30\"/>\r\n      </g>\r\n     </g>\r\n    </g>\r\n    <g id=\"xtick_5\">\r\n     <g id=\"line2d_5\">\r\n      <g>\r\n       <use style=\"stroke:#000000;stroke-width:0.8;\" x=\"442.675617\" xlink:href=\"#ma511f7b33d\" y=\"402.838125\"/>\r\n      </g>\r\n     </g>\r\n     <g id=\"text_5\">\r\n      <!-- 80 -->\r\n      <g transform=\"translate(436.313117 417.436562)scale(0.1 -0.1)\">\r\n       <defs>\r\n        <path d=\"M 2034 2216 \r\nQ 1584 2216 1326 1975 \r\nQ 1069 1734 1069 1313 \r\nQ 1069 891 1326 650 \r\nQ 1584 409 2034 409 \r\nQ 2484 409 2743 651 \r\nQ 3003 894 3003 1313 \r\nQ 3003 1734 2745 1975 \r\nQ 2488 2216 2034 2216 \r\nz\r\nM 1403 2484 \r\nQ 997 2584 770 2862 \r\nQ 544 3141 544 3541 \r\nQ 544 4100 942 4425 \r\nQ 1341 4750 2034 4750 \r\nQ 2731 4750 3128 4425 \r\nQ 3525 4100 3525 3541 \r\nQ 3525 3141 3298 2862 \r\nQ 3072 2584 2669 2484 \r\nQ 3125 2378 3379 2068 \r\nQ 3634 1759 3634 1313 \r\nQ 3634 634 3220 271 \r\nQ 2806 -91 2034 -91 \r\nQ 1263 -91 848 271 \r\nQ 434 634 434 1313 \r\nQ 434 1759 690 2068 \r\nQ 947 2378 1403 2484 \r\nz\r\nM 1172 3481 \r\nQ 1172 3119 1398 2916 \r\nQ 1625 2713 2034 2713 \r\nQ 2441 2713 2670 2916 \r\nQ 2900 3119 2900 3481 \r\nQ 2900 3844 2670 4047 \r\nQ 2441 4250 2034 4250 \r\nQ 1625 4250 1398 4047 \r\nQ 1172 3844 1172 3481 \r\nz\r\n\" id=\"DejaVuSans-38\" transform=\"scale(0.015625)\"/>\r\n       </defs>\r\n       <use xlink:href=\"#DejaVuSans-38\"/>\r\n       <use x=\"63.623047\" xlink:href=\"#DejaVuSans-30\"/>\r\n      </g>\r\n     </g>\r\n    </g>\r\n    <g id=\"xtick_6\">\r\n     <g id=\"line2d_6\">\r\n      <g>\r\n       <use style=\"stroke:#000000;stroke-width:0.8;\" x=\"535.838653\" xlink:href=\"#ma511f7b33d\" y=\"402.838125\"/>\r\n      </g>\r\n     </g>\r\n     <g id=\"text_6\">\r\n      <!-- 100 -->\r\n      <g transform=\"translate(526.294903 417.436562)scale(0.1 -0.1)\">\r\n       <defs>\r\n        <path d=\"M 794 531 \r\nL 1825 531 \r\nL 1825 4091 \r\nL 703 3866 \r\nL 703 4441 \r\nL 1819 4666 \r\nL 2450 4666 \r\nL 2450 531 \r\nL 3481 531 \r\nL 3481 0 \r\nL 794 0 \r\nL 794 531 \r\nz\r\n\" id=\"DejaVuSans-31\" transform=\"scale(0.015625)\"/>\r\n       </defs>\r\n       <use xlink:href=\"#DejaVuSans-31\"/>\r\n       <use x=\"63.623047\" xlink:href=\"#DejaVuSans-30\"/>\r\n       <use x=\"127.246094\" xlink:href=\"#DejaVuSans-30\"/>\r\n      </g>\r\n     </g>\r\n    </g>\r\n    <g id=\"text_7\">\r\n     <!-- epochs -->\r\n     <g transform=\"translate(282.769176 431.114687)scale(0.1 -0.1)\">\r\n      <defs>\r\n       <path d=\"M 3597 1894 \r\nL 3597 1613 \r\nL 953 1613 \r\nQ 991 1019 1311 708 \r\nQ 1631 397 2203 397 \r\nQ 2534 397 2845 478 \r\nQ 3156 559 3463 722 \r\nL 3463 178 \r\nQ 3153 47 2828 -22 \r\nQ 2503 -91 2169 -91 \r\nQ 1331 -91 842 396 \r\nQ 353 884 353 1716 \r\nQ 353 2575 817 3079 \r\nQ 1281 3584 2069 3584 \r\nQ 2775 3584 3186 3129 \r\nQ 3597 2675 3597 1894 \r\nz\r\nM 3022 2063 \r\nQ 3016 2534 2758 2815 \r\nQ 2500 3097 2075 3097 \r\nQ 1594 3097 1305 2825 \r\nQ 1016 2553 972 2059 \r\nL 3022 2063 \r\nz\r\n\" id=\"DejaVuSans-65\" transform=\"scale(0.015625)\"/>\r\n       <path d=\"M 1159 525 \r\nL 1159 -1331 \r\nL 581 -1331 \r\nL 581 3500 \r\nL 1159 3500 \r\nL 1159 2969 \r\nQ 1341 3281 1617 3432 \r\nQ 1894 3584 2278 3584 \r\nQ 2916 3584 3314 3078 \r\nQ 3713 2572 3713 1747 \r\nQ 3713 922 3314 415 \r\nQ 2916 -91 2278 -91 \r\nQ 1894 -91 1617 61 \r\nQ 1341 213 1159 525 \r\nz\r\nM 3116 1747 \r\nQ 3116 2381 2855 2742 \r\nQ 2594 3103 2138 3103 \r\nQ 1681 3103 1420 2742 \r\nQ 1159 2381 1159 1747 \r\nQ 1159 1113 1420 752 \r\nQ 1681 391 2138 391 \r\nQ 2594 391 2855 752 \r\nQ 3116 1113 3116 1747 \r\nz\r\n\" id=\"DejaVuSans-70\" transform=\"scale(0.015625)\"/>\r\n       <path d=\"M 1959 3097 \r\nQ 1497 3097 1228 2736 \r\nQ 959 2375 959 1747 \r\nQ 959 1119 1226 758 \r\nQ 1494 397 1959 397 \r\nQ 2419 397 2687 759 \r\nQ 2956 1122 2956 1747 \r\nQ 2956 2369 2687 2733 \r\nQ 2419 3097 1959 3097 \r\nz\r\nM 1959 3584 \r\nQ 2709 3584 3137 3096 \r\nQ 3566 2609 3566 1747 \r\nQ 3566 888 3137 398 \r\nQ 2709 -91 1959 -91 \r\nQ 1206 -91 779 398 \r\nQ 353 888 353 1747 \r\nQ 353 2609 779 3096 \r\nQ 1206 3584 1959 3584 \r\nz\r\n\" id=\"DejaVuSans-6f\" transform=\"scale(0.015625)\"/>\r\n       <path d=\"M 3122 3366 \r\nL 3122 2828 \r\nQ 2878 2963 2633 3030 \r\nQ 2388 3097 2138 3097 \r\nQ 1578 3097 1268 2742 \r\nQ 959 2388 959 1747 \r\nQ 959 1106 1268 751 \r\nQ 1578 397 2138 397 \r\nQ 2388 397 2633 464 \r\nQ 2878 531 3122 666 \r\nL 3122 134 \r\nQ 2881 22 2623 -34 \r\nQ 2366 -91 2075 -91 \r\nQ 1284 -91 818 406 \r\nQ 353 903 353 1747 \r\nQ 353 2603 823 3093 \r\nQ 1294 3584 2113 3584 \r\nQ 2378 3584 2631 3529 \r\nQ 2884 3475 3122 3366 \r\nz\r\n\" id=\"DejaVuSans-63\" transform=\"scale(0.015625)\"/>\r\n       <path d=\"M 3513 2113 \r\nL 3513 0 \r\nL 2938 0 \r\nL 2938 2094 \r\nQ 2938 2591 2744 2837 \r\nQ 2550 3084 2163 3084 \r\nQ 1697 3084 1428 2787 \r\nQ 1159 2491 1159 1978 \r\nL 1159 0 \r\nL 581 0 \r\nL 581 4863 \r\nL 1159 4863 \r\nL 1159 2956 \r\nQ 1366 3272 1645 3428 \r\nQ 1925 3584 2291 3584 \r\nQ 2894 3584 3203 3211 \r\nQ 3513 2838 3513 2113 \r\nz\r\n\" id=\"DejaVuSans-68\" transform=\"scale(0.015625)\"/>\r\n       <path d=\"M 2834 3397 \r\nL 2834 2853 \r\nQ 2591 2978 2328 3040 \r\nQ 2066 3103 1784 3103 \r\nQ 1356 3103 1142 2972 \r\nQ 928 2841 928 2578 \r\nQ 928 2378 1081 2264 \r\nQ 1234 2150 1697 2047 \r\nL 1894 2003 \r\nQ 2506 1872 2764 1633 \r\nQ 3022 1394 3022 966 \r\nQ 3022 478 2636 193 \r\nQ 2250 -91 1575 -91 \r\nQ 1294 -91 989 -36 \r\nQ 684 19 347 128 \r\nL 347 722 \r\nQ 666 556 975 473 \r\nQ 1284 391 1588 391 \r\nQ 1994 391 2212 530 \r\nQ 2431 669 2431 922 \r\nQ 2431 1156 2273 1281 \r\nQ 2116 1406 1581 1522 \r\nL 1381 1569 \r\nQ 847 1681 609 1914 \r\nQ 372 2147 372 2553 \r\nQ 372 3047 722 3315 \r\nQ 1072 3584 1716 3584 \r\nQ 2034 3584 2315 3537 \r\nQ 2597 3491 2834 3397 \r\nz\r\n\" id=\"DejaVuSans-73\" transform=\"scale(0.015625)\"/>\r\n      </defs>\r\n      <use xlink:href=\"#DejaVuSans-65\"/>\r\n      <use x=\"61.523438\" xlink:href=\"#DejaVuSans-70\"/>\r\n      <use x=\"125\" xlink:href=\"#DejaVuSans-6f\"/>\r\n      <use x=\"186.181641\" xlink:href=\"#DejaVuSans-63\"/>\r\n      <use x=\"241.162109\" xlink:href=\"#DejaVuSans-68\"/>\r\n      <use x=\"304.541016\" xlink:href=\"#DejaVuSans-73\"/>\r\n     </g>\r\n    </g>\r\n   </g>\r\n   <g id=\"matplotlib.axis_2\">\r\n    <g id=\"ytick_1\">\r\n     <g id=\"line2d_7\">\r\n      <defs>\r\n       <path d=\"M 0 0 \r\nL -3.5 0 \r\n\" id=\"m87463f9a54\" style=\"stroke:#000000;stroke-width:0.8;\"/>\r\n      </defs>\r\n      <g>\r\n       <use style=\"stroke:#000000;stroke-width:0.8;\" x=\"46.965625\" xlink:href=\"#m87463f9a54\" y=\"355.491247\"/>\r\n      </g>\r\n     </g>\r\n     <g id=\"text_8\">\r\n      <!-- 20 -->\r\n      <g transform=\"translate(27.240625 359.290466)scale(0.1 -0.1)\">\r\n       <use xlink:href=\"#DejaVuSans-32\"/>\r\n       <use x=\"63.623047\" xlink:href=\"#DejaVuSans-30\"/>\r\n      </g>\r\n     </g>\r\n    </g>\r\n    <g id=\"ytick_2\">\r\n     <g id=\"line2d_8\">\r\n      <g>\r\n       <use style=\"stroke:#000000;stroke-width:0.8;\" x=\"46.965625\" xlink:href=\"#m87463f9a54\" y=\"276.32414\"/>\r\n      </g>\r\n     </g>\r\n     <g id=\"text_9\">\r\n      <!-- 40 -->\r\n      <g transform=\"translate(27.240625 280.123358)scale(0.1 -0.1)\">\r\n       <use xlink:href=\"#DejaVuSans-34\"/>\r\n       <use x=\"63.623047\" xlink:href=\"#DejaVuSans-30\"/>\r\n      </g>\r\n     </g>\r\n    </g>\r\n    <g id=\"ytick_3\">\r\n     <g id=\"line2d_9\">\r\n      <g>\r\n       <use style=\"stroke:#000000;stroke-width:0.8;\" x=\"46.965625\" xlink:href=\"#m87463f9a54\" y=\"197.157032\"/>\r\n      </g>\r\n     </g>\r\n     <g id=\"text_10\">\r\n      <!-- 60 -->\r\n      <g transform=\"translate(27.240625 200.956251)scale(0.1 -0.1)\">\r\n       <use xlink:href=\"#DejaVuSans-36\"/>\r\n       <use x=\"63.623047\" xlink:href=\"#DejaVuSans-30\"/>\r\n      </g>\r\n     </g>\r\n    </g>\r\n    <g id=\"ytick_4\">\r\n     <g id=\"line2d_10\">\r\n      <g>\r\n       <use style=\"stroke:#000000;stroke-width:0.8;\" x=\"46.965625\" xlink:href=\"#m87463f9a54\" y=\"117.989925\"/>\r\n      </g>\r\n     </g>\r\n     <g id=\"text_11\">\r\n      <!-- 80 -->\r\n      <g transform=\"translate(27.240625 121.789144)scale(0.1 -0.1)\">\r\n       <use xlink:href=\"#DejaVuSans-38\"/>\r\n       <use x=\"63.623047\" xlink:href=\"#DejaVuSans-30\"/>\r\n      </g>\r\n     </g>\r\n    </g>\r\n    <g id=\"ytick_5\">\r\n     <g id=\"line2d_11\">\r\n      <g>\r\n       <use style=\"stroke:#000000;stroke-width:0.8;\" x=\"46.965625\" xlink:href=\"#m87463f9a54\" y=\"38.822818\"/>\r\n      </g>\r\n     </g>\r\n     <g id=\"text_12\">\r\n      <!-- 100 -->\r\n      <g transform=\"translate(20.878125 42.622036)scale(0.1 -0.1)\">\r\n       <use xlink:href=\"#DejaVuSans-31\"/>\r\n       <use x=\"63.623047\" xlink:href=\"#DejaVuSans-30\"/>\r\n       <use x=\"127.246094\" xlink:href=\"#DejaVuSans-30\"/>\r\n      </g>\r\n     </g>\r\n    </g>\r\n    <g id=\"text_13\">\r\n     <!-- value -->\r\n     <g transform=\"translate(14.798438 226.235937)rotate(-90)scale(0.1 -0.1)\">\r\n      <defs>\r\n       <path d=\"M 191 3500 \r\nL 800 3500 \r\nL 1894 563 \r\nL 2988 3500 \r\nL 3597 3500 \r\nL 2284 0 \r\nL 1503 0 \r\nL 191 3500 \r\nz\r\n\" id=\"DejaVuSans-76\" transform=\"scale(0.015625)\"/>\r\n       <path d=\"M 2194 1759 \r\nQ 1497 1759 1228 1600 \r\nQ 959 1441 959 1056 \r\nQ 959 750 1161 570 \r\nQ 1363 391 1709 391 \r\nQ 2188 391 2477 730 \r\nQ 2766 1069 2766 1631 \r\nL 2766 1759 \r\nL 2194 1759 \r\nz\r\nM 3341 1997 \r\nL 3341 0 \r\nL 2766 0 \r\nL 2766 531 \r\nQ 2569 213 2275 61 \r\nQ 1981 -91 1556 -91 \r\nQ 1019 -91 701 211 \r\nQ 384 513 384 1019 \r\nQ 384 1609 779 1909 \r\nQ 1175 2209 1959 2209 \r\nL 2766 2209 \r\nL 2766 2266 \r\nQ 2766 2663 2505 2880 \r\nQ 2244 3097 1772 3097 \r\nQ 1472 3097 1187 3025 \r\nQ 903 2953 641 2809 \r\nL 641 3341 \r\nQ 956 3463 1253 3523 \r\nQ 1550 3584 1831 3584 \r\nQ 2591 3584 2966 3190 \r\nQ 3341 2797 3341 1997 \r\nz\r\n\" id=\"DejaVuSans-61\" transform=\"scale(0.015625)\"/>\r\n       <path d=\"M 603 4863 \r\nL 1178 4863 \r\nL 1178 0 \r\nL 603 0 \r\nL 603 4863 \r\nz\r\n\" id=\"DejaVuSans-6c\" transform=\"scale(0.015625)\"/>\r\n       <path d=\"M 544 1381 \r\nL 544 3500 \r\nL 1119 3500 \r\nL 1119 1403 \r\nQ 1119 906 1312 657 \r\nQ 1506 409 1894 409 \r\nQ 2359 409 2629 706 \r\nQ 2900 1003 2900 1516 \r\nL 2900 3500 \r\nL 3475 3500 \r\nL 3475 0 \r\nL 2900 0 \r\nL 2900 538 \r\nQ 2691 219 2414 64 \r\nQ 2138 -91 1772 -91 \r\nQ 1169 -91 856 284 \r\nQ 544 659 544 1381 \r\nz\r\nM 1991 3584 \r\nL 1991 3584 \r\nz\r\n\" id=\"DejaVuSans-75\" transform=\"scale(0.015625)\"/>\r\n      </defs>\r\n      <use xlink:href=\"#DejaVuSans-76\"/>\r\n      <use x=\"59.179688\" xlink:href=\"#DejaVuSans-61\"/>\r\n      <use x=\"120.458984\" xlink:href=\"#DejaVuSans-6c\"/>\r\n      <use x=\"148.242188\" xlink:href=\"#DejaVuSans-75\"/>\r\n      <use x=\"211.621094\" xlink:href=\"#DejaVuSans-65\"/>\r\n     </g>\r\n    </g>\r\n   </g>\r\n   <g id=\"line2d_12\">\r\n    <path clip-path=\"url(#pa276ced117)\" d=\"M 70.023476 374.887188 \r\nL 74.681628 374.029545 \r\nL 79.33978 380.758749 \r\nL 83.997932 385.541761 \r\nL 88.656083 384.75009 \r\nL 93.314235 377.09727 \r\nL 97.972387 377.822968 \r\nL 102.630539 372.545161 \r\nL 107.28869 370.961819 \r\nL 111.946842 373.237873 \r\nL 116.604994 366.244779 \r\nL 121.263146 357.932233 \r\nL 125.921297 359.449602 \r\nL 130.579449 352.25859 \r\nL 135.237601 343.880071 \r\nL 139.895753 340.779359 \r\nL 144.553904 327.485883 \r\nL 149.212056 326.430321 \r\nL 153.870208 319.338268 \r\nL 158.52836 316.567419 \r\nL 163.186512 302.779148 \r\nL 167.844663 306.077777 \r\nL 172.502815 296.148903 \r\nL 177.160967 290.838109 \r\nL 181.819119 290.079424 \r\nL 186.47727 289.353726 \r\nL 191.135422 279.952632 \r\nL 195.793574 267.252908 \r\nL 200.451726 265.966443 \r\nL 205.109877 256.004582 \r\nL 209.768029 245.448968 \r\nL 214.426181 222.160644 \r\nL 219.084333 211.671002 \r\nL 223.742485 189.372267 \r\nL 228.400636 189.207335 \r\nL 233.058788 167.634298 \r\nL 237.71694 151.504 \r\nL 242.375092 143.785207 \r\nL 247.033243 126.500389 \r\nL 251.691395 117.363185 \r\nL 256.349547 108.984666 \r\nL 261.007699 100.606148 \r\nL 265.66585 92.854368 \r\nL 270.324002 85.762315 \r\nL 274.982154 74.085167 \r\nL 279.640306 70.522647 \r\nL 284.298457 67.388949 \r\nL 288.956609 62.144128 \r\nL 293.614761 58.482649 \r\nL 298.272913 60.395854 \r\nL 302.931065 57.361115 \r\nL 307.589216 58.053827 \r\nL 312.247368 54.854157 \r\nL 316.90552 52.644075 \r\nL 321.563672 55.019088 \r\nL 326.221823 55.810759 \r\nL 330.879975 50.532952 \r\nL 335.538127 47.993007 \r\nL 340.196279 50.137117 \r\nL 344.85443 48.190925 \r\nL 349.512582 46.376679 \r\nL 354.170734 45.189172 \r\nL 358.828886 44.562433 \r\nL 363.487037 43.803748 \r\nL 368.145189 44.760351 \r\nL 372.803341 44.991255 \r\nL 377.461493 45.189172 \r\nL 382.119645 43.572844 \r\nL 386.777796 45.189172 \r\nL 391.435948 45.552022 \r\nL 396.0941 46.409665 \r\nL 400.752252 44.760351 \r\nL 405.410403 46.046816 \r\nL 410.068555 43.803748 \r\nL 414.726707 42.583255 \r\nL 419.384859 43.209995 \r\nL 424.04301 41.197831 \r\nL 428.701162 42.18742 \r\nL 433.359314 42.385337 \r\nL 438.017466 42.979091 \r\nL 442.675617 42.781173 \r\nL 447.333769 41.791584 \r\nL 451.991921 40.999913 \r\nL 456.650073 40.999913 \r\nL 461.308225 41.197831 \r\nL 465.966376 40.208242 \r\nL 470.624528 41.395749 \r\nL 475.28268 41.593666 \r\nL 479.940832 42.814159 \r\nL 484.598983 41.395749 \r\nL 489.257135 41.197831 \r\nL 493.915287 41.989502 \r\nL 498.573439 39.614489 \r\nL 503.23159 42.418324 \r\nL 507.889742 65.310812 \r\nL 512.547894 73.854263 \r\nL 517.206046 47.663145 \r\nL 521.864198 43.209995 \r\nL 526.522349 42.385337 \r\nL 531.180501 40.40616 \r\n\" style=\"fill:none;stroke:#1f77b4;stroke-linecap:square;stroke-width:1.5;\"/>\r\n   </g>\r\n   <g id=\"line2d_13\"/>\r\n   <g id=\"patch_3\">\r\n    <path d=\"M 46.965625 402.838125 \r\nL 46.965625 22.318125 \r\n\" style=\"fill:none;stroke:#000000;stroke-linecap:square;stroke-linejoin:miter;stroke-width:0.8;\"/>\r\n   </g>\r\n   <g id=\"patch_4\">\r\n    <path d=\"M 554.238352 402.838125 \r\nL 554.238352 22.318125 \r\n\" style=\"fill:none;stroke:#000000;stroke-linecap:square;stroke-linejoin:miter;stroke-width:0.8;\"/>\r\n   </g>\r\n   <g id=\"patch_5\">\r\n    <path d=\"M 46.965625 402.838125 \r\nL 554.238352 402.838125 \r\n\" style=\"fill:none;stroke:#000000;stroke-linecap:square;stroke-linejoin:miter;stroke-width:0.8;\"/>\r\n   </g>\r\n   <g id=\"patch_6\">\r\n    <path d=\"M 46.965625 22.318125 \r\nL 554.238352 22.318125 \r\n\" style=\"fill:none;stroke:#000000;stroke-linecap:square;stroke-linejoin:miter;stroke-width:0.8;\"/>\r\n   </g>\r\n   <g id=\"text_14\">\r\n    <!-- Train Accuracy/Epoch -->\r\n    <g transform=\"translate(236.514489 16.318125)scale(0.12 -0.12)\">\r\n     <defs>\r\n      <path d=\"M -19 4666 \r\nL 3928 4666 \r\nL 3928 4134 \r\nL 2272 4134 \r\nL 2272 0 \r\nL 1638 0 \r\nL 1638 4134 \r\nL -19 4134 \r\nL -19 4666 \r\nz\r\n\" id=\"DejaVuSans-54\" transform=\"scale(0.015625)\"/>\r\n      <path d=\"M 2631 2963 \r\nQ 2534 3019 2420 3045 \r\nQ 2306 3072 2169 3072 \r\nQ 1681 3072 1420 2755 \r\nQ 1159 2438 1159 1844 \r\nL 1159 0 \r\nL 581 0 \r\nL 581 3500 \r\nL 1159 3500 \r\nL 1159 2956 \r\nQ 1341 3275 1631 3429 \r\nQ 1922 3584 2338 3584 \r\nQ 2397 3584 2469 3576 \r\nQ 2541 3569 2628 3553 \r\nL 2631 2963 \r\nz\r\n\" id=\"DejaVuSans-72\" transform=\"scale(0.015625)\"/>\r\n      <path d=\"M 603 3500 \r\nL 1178 3500 \r\nL 1178 0 \r\nL 603 0 \r\nL 603 3500 \r\nz\r\nM 603 4863 \r\nL 1178 4863 \r\nL 1178 4134 \r\nL 603 4134 \r\nL 603 4863 \r\nz\r\n\" id=\"DejaVuSans-69\" transform=\"scale(0.015625)\"/>\r\n      <path d=\"M 3513 2113 \r\nL 3513 0 \r\nL 2938 0 \r\nL 2938 2094 \r\nQ 2938 2591 2744 2837 \r\nQ 2550 3084 2163 3084 \r\nQ 1697 3084 1428 2787 \r\nQ 1159 2491 1159 1978 \r\nL 1159 0 \r\nL 581 0 \r\nL 581 3500 \r\nL 1159 3500 \r\nL 1159 2956 \r\nQ 1366 3272 1645 3428 \r\nQ 1925 3584 2291 3584 \r\nQ 2894 3584 3203 3211 \r\nQ 3513 2838 3513 2113 \r\nz\r\n\" id=\"DejaVuSans-6e\" transform=\"scale(0.015625)\"/>\r\n      <path id=\"DejaVuSans-20\" transform=\"scale(0.015625)\"/>\r\n      <path d=\"M 2188 4044 \r\nL 1331 1722 \r\nL 3047 1722 \r\nL 2188 4044 \r\nz\r\nM 1831 4666 \r\nL 2547 4666 \r\nL 4325 0 \r\nL 3669 0 \r\nL 3244 1197 \r\nL 1141 1197 \r\nL 716 0 \r\nL 50 0 \r\nL 1831 4666 \r\nz\r\n\" id=\"DejaVuSans-41\" transform=\"scale(0.015625)\"/>\r\n      <path d=\"M 2059 -325 \r\nQ 1816 -950 1584 -1140 \r\nQ 1353 -1331 966 -1331 \r\nL 506 -1331 \r\nL 506 -850 \r\nL 844 -850 \r\nQ 1081 -850 1212 -737 \r\nQ 1344 -625 1503 -206 \r\nL 1606 56 \r\nL 191 3500 \r\nL 800 3500 \r\nL 1894 763 \r\nL 2988 3500 \r\nL 3597 3500 \r\nL 2059 -325 \r\nz\r\n\" id=\"DejaVuSans-79\" transform=\"scale(0.015625)\"/>\r\n      <path d=\"M 1625 4666 \r\nL 2156 4666 \r\nL 531 -594 \r\nL 0 -594 \r\nL 1625 4666 \r\nz\r\n\" id=\"DejaVuSans-2f\" transform=\"scale(0.015625)\"/>\r\n      <path d=\"M 628 4666 \r\nL 3578 4666 \r\nL 3578 4134 \r\nL 1259 4134 \r\nL 1259 2753 \r\nL 3481 2753 \r\nL 3481 2222 \r\nL 1259 2222 \r\nL 1259 531 \r\nL 3634 531 \r\nL 3634 0 \r\nL 628 0 \r\nL 628 4666 \r\nz\r\n\" id=\"DejaVuSans-45\" transform=\"scale(0.015625)\"/>\r\n     </defs>\r\n     <use xlink:href=\"#DejaVuSans-54\"/>\r\n     <use x=\"46.333984\" xlink:href=\"#DejaVuSans-72\"/>\r\n     <use x=\"87.447266\" xlink:href=\"#DejaVuSans-61\"/>\r\n     <use x=\"148.726562\" xlink:href=\"#DejaVuSans-69\"/>\r\n     <use x=\"176.509766\" xlink:href=\"#DejaVuSans-6e\"/>\r\n     <use x=\"239.888672\" xlink:href=\"#DejaVuSans-20\"/>\r\n     <use x=\"271.675781\" xlink:href=\"#DejaVuSans-41\"/>\r\n     <use x=\"338.333984\" xlink:href=\"#DejaVuSans-63\"/>\r\n     <use x=\"393.314453\" xlink:href=\"#DejaVuSans-63\"/>\r\n     <use x=\"448.294922\" xlink:href=\"#DejaVuSans-75\"/>\r\n     <use x=\"511.673828\" xlink:href=\"#DejaVuSans-72\"/>\r\n     <use x=\"552.787109\" xlink:href=\"#DejaVuSans-61\"/>\r\n     <use x=\"614.066406\" xlink:href=\"#DejaVuSans-63\"/>\r\n     <use x=\"669.046875\" xlink:href=\"#DejaVuSans-79\"/>\r\n     <use x=\"728.226562\" xlink:href=\"#DejaVuSans-2f\"/>\r\n     <use x=\"761.917969\" xlink:href=\"#DejaVuSans-45\"/>\r\n     <use x=\"825.101562\" xlink:href=\"#DejaVuSans-70\"/>\r\n     <use x=\"888.578125\" xlink:href=\"#DejaVuSans-6f\"/>\r\n     <use x=\"949.759766\" xlink:href=\"#DejaVuSans-63\"/>\r\n     <use x=\"1004.740234\" xlink:href=\"#DejaVuSans-68\"/>\r\n    </g>\r\n   </g>\r\n   <g id=\"legend_1\">\r\n    <g id=\"patch_7\">\r\n     <path d=\"M 53.965625 59.674375 \r\nL 109.240625 59.674375 \r\nQ 111.240625 59.674375 111.240625 57.674375 \r\nL 111.240625 29.318125 \r\nQ 111.240625 27.318125 109.240625 27.318125 \r\nL 53.965625 27.318125 \r\nQ 51.965625 27.318125 51.965625 29.318125 \r\nL 51.965625 57.674375 \r\nQ 51.965625 59.674375 53.965625 59.674375 \r\nz\r\n\" style=\"fill:#ffffff;opacity:0.8;stroke:#cccccc;stroke-linejoin:miter;\"/>\r\n    </g>\r\n    <g id=\"text_15\">\r\n     <!-- variable -->\r\n     <g transform=\"translate(61.43125 38.916562)scale(0.1 -0.1)\">\r\n      <defs>\r\n       <path d=\"M 3116 1747 \r\nQ 3116 2381 2855 2742 \r\nQ 2594 3103 2138 3103 \r\nQ 1681 3103 1420 2742 \r\nQ 1159 2381 1159 1747 \r\nQ 1159 1113 1420 752 \r\nQ 1681 391 2138 391 \r\nQ 2594 391 2855 752 \r\nQ 3116 1113 3116 1747 \r\nz\r\nM 1159 2969 \r\nQ 1341 3281 1617 3432 \r\nQ 1894 3584 2278 3584 \r\nQ 2916 3584 3314 3078 \r\nQ 3713 2572 3713 1747 \r\nQ 3713 922 3314 415 \r\nQ 2916 -91 2278 -91 \r\nQ 1894 -91 1617 61 \r\nQ 1341 213 1159 525 \r\nL 1159 0 \r\nL 581 0 \r\nL 581 4863 \r\nL 1159 4863 \r\nL 1159 2969 \r\nz\r\n\" id=\"DejaVuSans-62\" transform=\"scale(0.015625)\"/>\r\n      </defs>\r\n      <use xlink:href=\"#DejaVuSans-76\"/>\r\n      <use x=\"59.179688\" xlink:href=\"#DejaVuSans-61\"/>\r\n      <use x=\"120.458984\" xlink:href=\"#DejaVuSans-72\"/>\r\n      <use x=\"161.572266\" xlink:href=\"#DejaVuSans-69\"/>\r\n      <use x=\"189.355469\" xlink:href=\"#DejaVuSans-61\"/>\r\n      <use x=\"250.634766\" xlink:href=\"#DejaVuSans-62\"/>\r\n      <use x=\"314.111328\" xlink:href=\"#DejaVuSans-6c\"/>\r\n      <use x=\"341.894531\" xlink:href=\"#DejaVuSans-65\"/>\r\n     </g>\r\n    </g>\r\n    <g id=\"line2d_14\">\r\n     <path d=\"M 55.965625 50.094687 \r\nL 75.965625 50.094687 \r\n\" style=\"fill:none;stroke:#1f77b4;stroke-linecap:square;stroke-width:1.5;\"/>\r\n    </g>\r\n    <g id=\"line2d_15\"/>\r\n    <g id=\"text_16\">\r\n     <!-- train -->\r\n     <g transform=\"translate(83.965625 53.594687)scale(0.1 -0.1)\">\r\n      <defs>\r\n       <path d=\"M 1172 4494 \r\nL 1172 3500 \r\nL 2356 3500 \r\nL 2356 3053 \r\nL 1172 3053 \r\nL 1172 1153 \r\nQ 1172 725 1289 603 \r\nQ 1406 481 1766 481 \r\nL 2356 481 \r\nL 2356 0 \r\nL 1766 0 \r\nQ 1100 0 847 248 \r\nQ 594 497 594 1153 \r\nL 594 3053 \r\nL 172 3053 \r\nL 172 3500 \r\nL 594 3500 \r\nL 594 4494 \r\nL 1172 4494 \r\nz\r\n\" id=\"DejaVuSans-74\" transform=\"scale(0.015625)\"/>\r\n      </defs>\r\n      <use xlink:href=\"#DejaVuSans-74\"/>\r\n      <use x=\"39.208984\" xlink:href=\"#DejaVuSans-72\"/>\r\n      <use x=\"80.322266\" xlink:href=\"#DejaVuSans-61\"/>\r\n      <use x=\"141.601562\" xlink:href=\"#DejaVuSans-69\"/>\r\n      <use x=\"169.384766\" xlink:href=\"#DejaVuSans-6e\"/>\r\n     </g>\r\n    </g>\r\n   </g>\r\n  </g>\r\n  <g id=\"axes_2\">\r\n   <g id=\"patch_8\">\r\n    <path d=\"M 655.692898 402.838125 \r\nL 1162.965625 402.838125 \r\nL 1162.965625 22.318125 \r\nL 655.692898 22.318125 \r\nz\r\n\" style=\"fill:#ffffff;\"/>\r\n   </g>\r\n   <g id=\"matplotlib.axis_3\">\r\n    <g id=\"xtick_7\">\r\n     <g id=\"line2d_16\">\r\n      <g>\r\n       <use style=\"stroke:#000000;stroke-width:0.8;\" x=\"678.750749\" xlink:href=\"#ma511f7b33d\" y=\"402.838125\"/>\r\n      </g>\r\n     </g>\r\n     <g id=\"text_17\">\r\n      <!-- 0 -->\r\n      <g transform=\"translate(675.569499 417.436562)scale(0.1 -0.1)\">\r\n       <use xlink:href=\"#DejaVuSans-30\"/>\r\n      </g>\r\n     </g>\r\n    </g>\r\n    <g id=\"xtick_8\">\r\n     <g id=\"line2d_17\">\r\n      <g>\r\n       <use style=\"stroke:#000000;stroke-width:0.8;\" x=\"771.913784\" xlink:href=\"#ma511f7b33d\" y=\"402.838125\"/>\r\n      </g>\r\n     </g>\r\n     <g id=\"text_18\">\r\n      <!-- 20 -->\r\n      <g transform=\"translate(765.551284 417.436562)scale(0.1 -0.1)\">\r\n       <use xlink:href=\"#DejaVuSans-32\"/>\r\n       <use x=\"63.623047\" xlink:href=\"#DejaVuSans-30\"/>\r\n      </g>\r\n     </g>\r\n    </g>\r\n    <g id=\"xtick_9\">\r\n     <g id=\"line2d_18\">\r\n      <g>\r\n       <use style=\"stroke:#000000;stroke-width:0.8;\" x=\"865.07682\" xlink:href=\"#ma511f7b33d\" y=\"402.838125\"/>\r\n      </g>\r\n     </g>\r\n     <g id=\"text_19\">\r\n      <!-- 40 -->\r\n      <g transform=\"translate(858.71432 417.436562)scale(0.1 -0.1)\">\r\n       <use xlink:href=\"#DejaVuSans-34\"/>\r\n       <use x=\"63.623047\" xlink:href=\"#DejaVuSans-30\"/>\r\n      </g>\r\n     </g>\r\n    </g>\r\n    <g id=\"xtick_10\">\r\n     <g id=\"line2d_19\">\r\n      <g>\r\n       <use style=\"stroke:#000000;stroke-width:0.8;\" x=\"958.239855\" xlink:href=\"#ma511f7b33d\" y=\"402.838125\"/>\r\n      </g>\r\n     </g>\r\n     <g id=\"text_20\">\r\n      <!-- 60 -->\r\n      <g transform=\"translate(951.877355 417.436562)scale(0.1 -0.1)\">\r\n       <use xlink:href=\"#DejaVuSans-36\"/>\r\n       <use x=\"63.623047\" xlink:href=\"#DejaVuSans-30\"/>\r\n      </g>\r\n     </g>\r\n    </g>\r\n    <g id=\"xtick_11\">\r\n     <g id=\"line2d_20\">\r\n      <g>\r\n       <use style=\"stroke:#000000;stroke-width:0.8;\" x=\"1051.40289\" xlink:href=\"#ma511f7b33d\" y=\"402.838125\"/>\r\n      </g>\r\n     </g>\r\n     <g id=\"text_21\">\r\n      <!-- 80 -->\r\n      <g transform=\"translate(1045.04039 417.436562)scale(0.1 -0.1)\">\r\n       <use xlink:href=\"#DejaVuSans-38\"/>\r\n       <use x=\"63.623047\" xlink:href=\"#DejaVuSans-30\"/>\r\n      </g>\r\n     </g>\r\n    </g>\r\n    <g id=\"xtick_12\">\r\n     <g id=\"line2d_21\">\r\n      <g>\r\n       <use style=\"stroke:#000000;stroke-width:0.8;\" x=\"1144.565926\" xlink:href=\"#ma511f7b33d\" y=\"402.838125\"/>\r\n      </g>\r\n     </g>\r\n     <g id=\"text_22\">\r\n      <!-- 100 -->\r\n      <g transform=\"translate(1135.022176 417.436562)scale(0.1 -0.1)\">\r\n       <use xlink:href=\"#DejaVuSans-31\"/>\r\n       <use x=\"63.623047\" xlink:href=\"#DejaVuSans-30\"/>\r\n       <use x=\"127.246094\" xlink:href=\"#DejaVuSans-30\"/>\r\n      </g>\r\n     </g>\r\n    </g>\r\n    <g id=\"text_23\">\r\n     <!-- epochs -->\r\n     <g transform=\"translate(891.496449 431.114687)scale(0.1 -0.1)\">\r\n      <use xlink:href=\"#DejaVuSans-65\"/>\r\n      <use x=\"61.523438\" xlink:href=\"#DejaVuSans-70\"/>\r\n      <use x=\"125\" xlink:href=\"#DejaVuSans-6f\"/>\r\n      <use x=\"186.181641\" xlink:href=\"#DejaVuSans-63\"/>\r\n      <use x=\"241.162109\" xlink:href=\"#DejaVuSans-68\"/>\r\n      <use x=\"304.541016\" xlink:href=\"#DejaVuSans-73\"/>\r\n     </g>\r\n    </g>\r\n   </g>\r\n   <g id=\"matplotlib.axis_4\">\r\n    <g id=\"ytick_6\">\r\n     <g id=\"line2d_22\">\r\n      <g>\r\n       <use style=\"stroke:#000000;stroke-width:0.8;\" x=\"655.692898\" xlink:href=\"#m87463f9a54\" y=\"389.731554\"/>\r\n      </g>\r\n     </g>\r\n     <g id=\"text_24\">\r\n      <!-- 0.0 -->\r\n      <g transform=\"translate(632.789773 393.530773)scale(0.1 -0.1)\">\r\n       <defs>\r\n        <path d=\"M 684 794 \r\nL 1344 794 \r\nL 1344 0 \r\nL 684 0 \r\nL 684 794 \r\nz\r\n\" id=\"DejaVuSans-2e\" transform=\"scale(0.015625)\"/>\r\n       </defs>\r\n       <use xlink:href=\"#DejaVuSans-30\"/>\r\n       <use x=\"63.623047\" xlink:href=\"#DejaVuSans-2e\"/>\r\n       <use x=\"95.410156\" xlink:href=\"#DejaVuSans-30\"/>\r\n      </g>\r\n     </g>\r\n    </g>\r\n    <g id=\"ytick_7\">\r\n     <g id=\"line2d_23\">\r\n      <g>\r\n       <use style=\"stroke:#000000;stroke-width:0.8;\" x=\"655.692898\" xlink:href=\"#m87463f9a54\" y=\"346.084825\"/>\r\n      </g>\r\n     </g>\r\n     <g id=\"text_25\">\r\n      <!-- 0.2 -->\r\n      <g transform=\"translate(632.789773 349.884044)scale(0.1 -0.1)\">\r\n       <use xlink:href=\"#DejaVuSans-30\"/>\r\n       <use x=\"63.623047\" xlink:href=\"#DejaVuSans-2e\"/>\r\n       <use x=\"95.410156\" xlink:href=\"#DejaVuSans-32\"/>\r\n      </g>\r\n     </g>\r\n    </g>\r\n    <g id=\"ytick_8\">\r\n     <g id=\"line2d_24\">\r\n      <g>\r\n       <use style=\"stroke:#000000;stroke-width:0.8;\" x=\"655.692898\" xlink:href=\"#m87463f9a54\" y=\"302.438096\"/>\r\n      </g>\r\n     </g>\r\n     <g id=\"text_26\">\r\n      <!-- 0.4 -->\r\n      <g transform=\"translate(632.789773 306.237315)scale(0.1 -0.1)\">\r\n       <use xlink:href=\"#DejaVuSans-30\"/>\r\n       <use x=\"63.623047\" xlink:href=\"#DejaVuSans-2e\"/>\r\n       <use x=\"95.410156\" xlink:href=\"#DejaVuSans-34\"/>\r\n      </g>\r\n     </g>\r\n    </g>\r\n    <g id=\"ytick_9\">\r\n     <g id=\"line2d_25\">\r\n      <g>\r\n       <use style=\"stroke:#000000;stroke-width:0.8;\" x=\"655.692898\" xlink:href=\"#m87463f9a54\" y=\"258.791367\"/>\r\n      </g>\r\n     </g>\r\n     <g id=\"text_27\">\r\n      <!-- 0.6 -->\r\n      <g transform=\"translate(632.789773 262.590586)scale(0.1 -0.1)\">\r\n       <use xlink:href=\"#DejaVuSans-30\"/>\r\n       <use x=\"63.623047\" xlink:href=\"#DejaVuSans-2e\"/>\r\n       <use x=\"95.410156\" xlink:href=\"#DejaVuSans-36\"/>\r\n      </g>\r\n     </g>\r\n    </g>\r\n    <g id=\"ytick_10\">\r\n     <g id=\"line2d_26\">\r\n      <g>\r\n       <use style=\"stroke:#000000;stroke-width:0.8;\" x=\"655.692898\" xlink:href=\"#m87463f9a54\" y=\"215.144638\"/>\r\n      </g>\r\n     </g>\r\n     <g id=\"text_28\">\r\n      <!-- 0.8 -->\r\n      <g transform=\"translate(632.789773 218.943857)scale(0.1 -0.1)\">\r\n       <use xlink:href=\"#DejaVuSans-30\"/>\r\n       <use x=\"63.623047\" xlink:href=\"#DejaVuSans-2e\"/>\r\n       <use x=\"95.410156\" xlink:href=\"#DejaVuSans-38\"/>\r\n      </g>\r\n     </g>\r\n    </g>\r\n    <g id=\"ytick_11\">\r\n     <g id=\"line2d_27\">\r\n      <g>\r\n       <use style=\"stroke:#000000;stroke-width:0.8;\" x=\"655.692898\" xlink:href=\"#m87463f9a54\" y=\"171.497909\"/>\r\n      </g>\r\n     </g>\r\n     <g id=\"text_29\">\r\n      <!-- 1.0 -->\r\n      <g transform=\"translate(632.789773 175.297128)scale(0.1 -0.1)\">\r\n       <use xlink:href=\"#DejaVuSans-31\"/>\r\n       <use x=\"63.623047\" xlink:href=\"#DejaVuSans-2e\"/>\r\n       <use x=\"95.410156\" xlink:href=\"#DejaVuSans-30\"/>\r\n      </g>\r\n     </g>\r\n    </g>\r\n    <g id=\"ytick_12\">\r\n     <g id=\"line2d_28\">\r\n      <g>\r\n       <use style=\"stroke:#000000;stroke-width:0.8;\" x=\"655.692898\" xlink:href=\"#m87463f9a54\" y=\"127.85118\"/>\r\n      </g>\r\n     </g>\r\n     <g id=\"text_30\">\r\n      <!-- 1.2 -->\r\n      <g transform=\"translate(632.789773 131.650399)scale(0.1 -0.1)\">\r\n       <use xlink:href=\"#DejaVuSans-31\"/>\r\n       <use x=\"63.623047\" xlink:href=\"#DejaVuSans-2e\"/>\r\n       <use x=\"95.410156\" xlink:href=\"#DejaVuSans-32\"/>\r\n      </g>\r\n     </g>\r\n    </g>\r\n    <g id=\"ytick_13\">\r\n     <g id=\"line2d_29\">\r\n      <g>\r\n       <use style=\"stroke:#000000;stroke-width:0.8;\" x=\"655.692898\" xlink:href=\"#m87463f9a54\" y=\"84.204451\"/>\r\n      </g>\r\n     </g>\r\n     <g id=\"text_31\">\r\n      <!-- 1.4 -->\r\n      <g transform=\"translate(632.789773 88.00367)scale(0.1 -0.1)\">\r\n       <use xlink:href=\"#DejaVuSans-31\"/>\r\n       <use x=\"63.623047\" xlink:href=\"#DejaVuSans-2e\"/>\r\n       <use x=\"95.410156\" xlink:href=\"#DejaVuSans-34\"/>\r\n      </g>\r\n     </g>\r\n    </g>\r\n    <g id=\"ytick_14\">\r\n     <g id=\"line2d_30\">\r\n      <g>\r\n       <use style=\"stroke:#000000;stroke-width:0.8;\" x=\"655.692898\" xlink:href=\"#m87463f9a54\" y=\"40.557722\"/>\r\n      </g>\r\n     </g>\r\n     <g id=\"text_32\">\r\n      <!-- 1.6 -->\r\n      <g transform=\"translate(632.789773 44.356941)scale(0.1 -0.1)\">\r\n       <use xlink:href=\"#DejaVuSans-31\"/>\r\n       <use x=\"63.623047\" xlink:href=\"#DejaVuSans-2e\"/>\r\n       <use x=\"95.410156\" xlink:href=\"#DejaVuSans-36\"/>\r\n      </g>\r\n     </g>\r\n    </g>\r\n    <g id=\"text_33\">\r\n     <!-- value -->\r\n     <g transform=\"translate(626.710085 226.235937)rotate(-90)scale(0.1 -0.1)\">\r\n      <use xlink:href=\"#DejaVuSans-76\"/>\r\n      <use x=\"59.179688\" xlink:href=\"#DejaVuSans-61\"/>\r\n      <use x=\"120.458984\" xlink:href=\"#DejaVuSans-6c\"/>\r\n      <use x=\"148.242188\" xlink:href=\"#DejaVuSans-75\"/>\r\n      <use x=\"211.621094\" xlink:href=\"#DejaVuSans-65\"/>\r\n     </g>\r\n    </g>\r\n   </g>\r\n   <g id=\"line2d_31\">\r\n    <path clip-path=\"url(#p18f50f872d)\" d=\"M 678.750749 39.614489 \r\nL 683.408901 57.585973 \r\nL 688.067052 59.604203 \r\nL 692.725204 61.881091 \r\nL 697.383356 65.680689 \r\nL 702.041508 68.050266 \r\nL 706.69966 71.252792 \r\nL 711.357811 74.150711 \r\nL 716.015963 75.520838 \r\nL 720.674115 76.854064 \r\nL 725.332267 78.223125 \r\nL 729.990418 80.131557 \r\nL 734.64857 80.800825 \r\nL 739.306722 82.149242 \r\nL 743.964874 83.110447 \r\nL 748.623025 83.907602 \r\nL 753.281177 84.304339 \r\nL 757.939329 85.784909 \r\nL 762.597481 86.579189 \r\nL 767.255633 87.553295 \r\nL 771.913784 87.716167 \r\nL 776.571936 89.146441 \r\nL 781.230088 91.545984 \r\nL 785.88824 91.744258 \r\nL 790.546391 95.174802 \r\nL 795.204543 96.943967 \r\nL 799.862695 100.588141 \r\nL 804.520847 105.472375 \r\nL 809.178998 110.36836 \r\nL 813.83715 116.870145 \r\nL 818.495302 122.057842 \r\nL 823.153454 134.568773 \r\nL 827.811605 146.335262 \r\nL 832.469757 158.67457 \r\nL 837.127909 167.621142 \r\nL 841.786061 187.530237 \r\nL 846.444213 201.740806 \r\nL 851.102364 210.677294 \r\nL 855.760516 229.681614 \r\nL 860.418668 243.68525 \r\nL 865.07682 256.488077 \r\nL 869.734971 267.445752 \r\nL 874.393123 278.068756 \r\nL 879.051275 291.500153 \r\nL 883.709427 303.152908 \r\nL 888.367578 313.587488 \r\nL 893.02573 321.88292 \r\nL 897.683882 327.942278 \r\nL 902.342034 334.005952 \r\nL 907.000185 336.729987 \r\nL 911.658337 341.417923 \r\nL 916.316489 344.452637 \r\nL 920.974641 349.348433 \r\nL 925.632793 352.795566 \r\nL 930.290944 352.909215 \r\nL 934.949096 354.26869 \r\nL 939.607248 359.664009 \r\nL 944.2654 362.519421 \r\nL 948.923551 362.393355 \r\nL 953.581703 366.483548 \r\nL 958.239855 369.473531 \r\nL 962.898007 370.635527 \r\nL 967.556158 372.076317 \r\nL 972.21431 374.652217 \r\nL 976.872462 373.042926 \r\nL 981.530614 374.148941 \r\nL 986.188765 373.762586 \r\nL 990.846917 374.82171 \r\nL 995.505069 373.484616 \r\nL 1000.163221 373.394115 \r\nL 1004.821373 372.644553 \r\nL 1009.479524 374.011006 \r\nL 1014.137676 373.489871 \r\nL 1018.795828 375.692972 \r\nL 1023.45398 378.425503 \r\nL 1028.112131 379.148847 \r\nL 1032.770283 380.345044 \r\nL 1037.428435 379.783734 \r\nL 1042.086587 381.147696 \r\nL 1046.744738 380.155582 \r\nL 1051.40289 380.886019 \r\nL 1056.061042 382.533451 \r\nL 1060.719194 383.127729 \r\nL 1065.377346 382.970209 \r\nL 1070.035497 383.366327 \r\nL 1074.693649 384.32852 \r\nL 1079.351801 383.560591 \r\nL 1084.009953 382.443584 \r\nL 1088.668104 382.933252 \r\nL 1093.326256 383.44858 \r\nL 1097.984408 383.870594 \r\nL 1102.64256 382.738124 \r\nL 1107.300711 385.541761 \r\nL 1111.958863 381.95225 \r\nL 1116.617015 333.414692 \r\nL 1121.275167 329.758398 \r\nL 1125.933318 373.260637 \r\nL 1130.59147 381.537967 \r\nL 1135.249622 381.907982 \r\nL 1139.907774 384.880297 \r\n\" style=\"fill:none;stroke:#1f77b4;stroke-linecap:square;stroke-width:1.5;\"/>\r\n   </g>\r\n   <g id=\"line2d_32\"/>\r\n   <g id=\"patch_9\">\r\n    <path d=\"M 655.692898 402.838125 \r\nL 655.692898 22.318125 \r\n\" style=\"fill:none;stroke:#000000;stroke-linecap:square;stroke-linejoin:miter;stroke-width:0.8;\"/>\r\n   </g>\r\n   <g id=\"patch_10\">\r\n    <path d=\"M 1162.965625 402.838125 \r\nL 1162.965625 22.318125 \r\n\" style=\"fill:none;stroke:#000000;stroke-linecap:square;stroke-linejoin:miter;stroke-width:0.8;\"/>\r\n   </g>\r\n   <g id=\"patch_11\">\r\n    <path d=\"M 655.692898 402.838125 \r\nL 1162.965625 402.838125 \r\n\" style=\"fill:none;stroke:#000000;stroke-linecap:square;stroke-linejoin:miter;stroke-width:0.8;\"/>\r\n   </g>\r\n   <g id=\"patch_12\">\r\n    <path d=\"M 655.692898 22.318125 \r\nL 1162.965625 22.318125 \r\n\" style=\"fill:none;stroke:#000000;stroke-linecap:square;stroke-linejoin:miter;stroke-width:0.8;\"/>\r\n   </g>\r\n   <g id=\"text_34\">\r\n    <!-- Train Loss/Epoch -->\r\n    <g transform=\"translate(859.474886 16.318125)scale(0.12 -0.12)\">\r\n     <defs>\r\n      <path d=\"M 628 4666 \r\nL 1259 4666 \r\nL 1259 531 \r\nL 3531 531 \r\nL 3531 0 \r\nL 628 0 \r\nL 628 4666 \r\nz\r\n\" id=\"DejaVuSans-4c\" transform=\"scale(0.015625)\"/>\r\n     </defs>\r\n     <use xlink:href=\"#DejaVuSans-54\"/>\r\n     <use x=\"46.333984\" xlink:href=\"#DejaVuSans-72\"/>\r\n     <use x=\"87.447266\" xlink:href=\"#DejaVuSans-61\"/>\r\n     <use x=\"148.726562\" xlink:href=\"#DejaVuSans-69\"/>\r\n     <use x=\"176.509766\" xlink:href=\"#DejaVuSans-6e\"/>\r\n     <use x=\"239.888672\" xlink:href=\"#DejaVuSans-20\"/>\r\n     <use x=\"271.675781\" xlink:href=\"#DejaVuSans-4c\"/>\r\n     <use x=\"325.638672\" xlink:href=\"#DejaVuSans-6f\"/>\r\n     <use x=\"386.820312\" xlink:href=\"#DejaVuSans-73\"/>\r\n     <use x=\"438.919922\" xlink:href=\"#DejaVuSans-73\"/>\r\n     <use x=\"491.019531\" xlink:href=\"#DejaVuSans-2f\"/>\r\n     <use x=\"524.710938\" xlink:href=\"#DejaVuSans-45\"/>\r\n     <use x=\"587.894531\" xlink:href=\"#DejaVuSans-70\"/>\r\n     <use x=\"651.371094\" xlink:href=\"#DejaVuSans-6f\"/>\r\n     <use x=\"712.552734\" xlink:href=\"#DejaVuSans-63\"/>\r\n     <use x=\"767.533203\" xlink:href=\"#DejaVuSans-68\"/>\r\n    </g>\r\n   </g>\r\n   <g id=\"legend_2\">\r\n    <g id=\"patch_13\">\r\n     <path d=\"M 1100.690625 59.674375 \r\nL 1155.965625 59.674375 \r\nQ 1157.965625 59.674375 1157.965625 57.674375 \r\nL 1157.965625 29.318125 \r\nQ 1157.965625 27.318125 1155.965625 27.318125 \r\nL 1100.690625 27.318125 \r\nQ 1098.690625 27.318125 1098.690625 29.318125 \r\nL 1098.690625 57.674375 \r\nQ 1098.690625 59.674375 1100.690625 59.674375 \r\nz\r\n\" style=\"fill:#ffffff;opacity:0.8;stroke:#cccccc;stroke-linejoin:miter;\"/>\r\n    </g>\r\n    <g id=\"text_35\">\r\n     <!-- variable -->\r\n     <g transform=\"translate(1108.15625 38.916562)scale(0.1 -0.1)\">\r\n      <use xlink:href=\"#DejaVuSans-76\"/>\r\n      <use x=\"59.179688\" xlink:href=\"#DejaVuSans-61\"/>\r\n      <use x=\"120.458984\" xlink:href=\"#DejaVuSans-72\"/>\r\n      <use x=\"161.572266\" xlink:href=\"#DejaVuSans-69\"/>\r\n      <use x=\"189.355469\" xlink:href=\"#DejaVuSans-61\"/>\r\n      <use x=\"250.634766\" xlink:href=\"#DejaVuSans-62\"/>\r\n      <use x=\"314.111328\" xlink:href=\"#DejaVuSans-6c\"/>\r\n      <use x=\"341.894531\" xlink:href=\"#DejaVuSans-65\"/>\r\n     </g>\r\n    </g>\r\n    <g id=\"line2d_33\">\r\n     <path d=\"M 1102.690625 50.094687 \r\nL 1122.690625 50.094687 \r\n\" style=\"fill:none;stroke:#1f77b4;stroke-linecap:square;stroke-width:1.5;\"/>\r\n    </g>\r\n    <g id=\"line2d_34\"/>\r\n    <g id=\"text_36\">\r\n     <!-- train -->\r\n     <g transform=\"translate(1130.690625 53.594687)scale(0.1 -0.1)\">\r\n      <use xlink:href=\"#DejaVuSans-74\"/>\r\n      <use x=\"39.208984\" xlink:href=\"#DejaVuSans-72\"/>\r\n      <use x=\"80.322266\" xlink:href=\"#DejaVuSans-61\"/>\r\n      <use x=\"141.601562\" xlink:href=\"#DejaVuSans-69\"/>\r\n      <use x=\"169.384766\" xlink:href=\"#DejaVuSans-6e\"/>\r\n     </g>\r\n    </g>\r\n   </g>\r\n  </g>\r\n </g>\r\n <defs>\r\n  <clipPath id=\"pa276ced117\">\r\n   <rect height=\"380.52\" width=\"507.272727\" x=\"46.965625\" y=\"22.318125\"/>\r\n  </clipPath>\r\n  <clipPath id=\"p18f50f872d\">\r\n   <rect height=\"380.52\" width=\"507.272727\" x=\"655.692898\" y=\"22.318125\"/>\r\n  </clipPath>\r\n </defs>\r\n</svg>\r\n",
      "image/png": "[encoded data removed]"
     },
     "metadata": {
      "needs_background": "light"
     }
    }
   ],
   "source": [
    "train_val_acc_df = pd.DataFrame.from_dict(accuracy_stats).reset_index().melt(id_vars=['index']).rename(columns={\"index\":\"epochs\"})\n",
    "train_val_loss_df = pd.DataFrame.from_dict(loss_stats).reset_index().melt(id_vars=['index']).rename(columns={\"index\":\"epochs\"})\n",
    "\n",
    "fig, axes = plt.subplots(nrows=1, ncols=2, figsize=(20,7))\n",
    "sns.lineplot(data=train_val_acc_df, x = \"epochs\", y=\"value\", hue=\"variable\",  ax=axes[0]).set_title('Train Accuracy/Epoch')\n",
    "sns.lineplot(data=train_val_loss_df, x = \"epochs\", y=\"value\", hue=\"variable\", ax=axes[1]).set_title('Train Loss/Epoch')"
   ]
  },
  {
   "cell_type": "code",
   "execution_count": 19,
   "metadata": {},
   "outputs": [],
   "source": [
    "# y_pred_list = []\n",
    "# with torch.no_grad():\n",
    "#     model.eval()\n",
    "#     for X_batch, _ in test_loader:\n",
    "#         X_batch = X_batch.to(device)\n",
    "#         y_test_pred = model(X_batch)\n",
    "#         _, y_pred_tags = torch.max(y_test_pred, dim=1)\n",
    "#         y_pred_list.append(y_pred_tags.cpu().numpy())\n",
    "# y_pred_list = [a.squeeze().tolist() for a in y_pred_list]\n",
    "# print(classification_report(y_test, y_pred_list, digits=4, target_names=motions))"
   ]
  },
  {
   "cell_type": "code",
   "execution_count": 21,
   "metadata": {},
   "outputs": [],
   "source": [
    "X_test = torch.tensor([[0.5443, 0.1501, 0.2573, 0.3037, 0.2820, 0.6485, 0.5821, 0.6623, 0.4477,\n",
    "         0.5488, 0.4024, 0.5839, 0.4573, 0.3589, 0.5379, 0.3807, 0.4899, 0.5739,\n",
    "         0.3629, 0.4590, 0.4574, 0.4820, 0.4135, 0.3357, 0.4409],\n",
    "        [0.4991, 0.2066, 0.1684, 0.2610, 0.3689, 0.6105, 0.4895, 0.6593, 0.4780,\n",
    "         0.5871, 0.4615, 0.4859, 0.3186, 0.3344, 0.4756, 0.3493, 0.4605, 0.4670,\n",
    "         0.3320, 0.3860, 0.4398, 0.4825, 0.4603, 0.4579, 0.4718],\n",
    "        [0.4722, 0.1531, 0.3449, 0.1444, 0.3251, 0.6171, 0.5892, 0.5833, 0.3064,\n",
    "         0.6773, 0.3137, 0.6257, 0.4131, 0.3100, 0.5420, 0.3651, 0.4957, 0.5617,\n",
    "         0.3645, 0.4801, 0.4423, 0.4803, 0.4020, 0.4021, 0.4445],\n",
    "        [0.6123, 0.2580, 0.2018, 0.3867, 0.1705, 0.5863, 0.5853, 0.5290, 0.3660,\n",
    "         0.5165, 0.4231, 0.5219, 0.4978, 0.3188, 0.4666, 0.3831, 0.3225, 0.5387,\n",
    "         0.3801, 0.4548, 0.5025, 0.5328, 0.6123, 0.5288, 0.4796],\n",
    "        [0.4671, 0.8987, 0.2736, 0.4068, 0.4196, 0.4860, 0.6069, 0.5674, 0.5770,\n",
    "         0.6051, 0.5092, 0.4967, 0.4903, 0.3874, 0.4401, 0.5010, 0.4075, 0.3873,\n",
    "         0.3076, 0.4715, 0.4175, 0.4717, 0.4370, 0.4156, 0.4534],\n",
    "        [0.5609, 0.2029, 0.1331, 0.2525, 0.3308, 0.5926, 0.4195, 0.6161, 0.4709,\n",
    "         0.5610, 0.4529, 0.4977, 0.3404, 0.3229, 0.4931, 0.3638, 0.4795, 0.4810,\n",
    "         0.3351, 0.4155, 0.4545, 0.4770, 0.4523, 0.4493, 0.4506],\n",
    "        [0.5295, 0.0968, 0.4577, 0.2190, 0.1978, 0.6570, 0.7225, 0.4720, 0.2962,\n",
    "         0.5371, 0.2142, 0.6993, 0.6027, 0.3593, 0.4615, 0.5204, 0.4892, 0.4419,\n",
    "         0.3289, 0.5131, 0.4363, 0.4425, 0.3712, 0.4010, 0.4697],\n",
    "        [0.5354, 0.4225, 0.0386, 0.3487, 0.6792, 0.3401, 0.3685, 0.5500, 0.5060,\n",
    "         0.5823, 0.6146, 0.2895, 0.4901, 0.4310, 0.4253, 0.6336, 0.4546, 0.2521,\n",
    "         0.3173, 0.4920, 0.4341, 0.4358, 0.3987, 0.4559, 0.4666],\n",
    "        [0.4239, 0.2383, 0.1145, 0.3773, 0.3389, 0.5900, 0.4569, 0.6021, 0.4590,\n",
    "         0.6119, 0.3526, 0.5019, 0.3298, 0.3393, 0.4405, 0.3548, 0.4592, 0.4305,\n",
    "         0.3309, 0.4031, 0.4411, 0.4691, 0.4514, 0.4269, 0.4750],\n",
    "        [0.5077, 0.3823, 0.0180, 0.4318, 0.5645, 0.3612, 0.4486, 0.4847, 0.5404,\n",
    "         0.5868, 0.5039, 0.4071, 0.4122, 0.3628, 0.4771, 0.4798, 0.4595, 0.3607,\n",
    "         0.3249, 0.4273, 0.4382, 0.4449, 0.4413, 0.4713, 0.4757],\n",
    "        [0.4470, 0.2588, 0.0996, 0.3734, 0.3700, 0.5390, 0.4440, 0.5725, 0.5129,\n",
    "         0.5684, 0.4131, 0.4517, 0.3585, 0.3537, 0.4343, 0.4047, 0.4677, 0.4092,\n",
    "         0.3169, 0.4293, 0.4507, 0.4639, 0.4207, 0.4648, 0.4751],\n",
    "        [0.4572, 0.3820, 0.0546, 0.4718, 0.6418, 0.3869, 0.3847, 0.5725, 0.5539,\n",
    "         0.5889, 0.5682, 0.3362, 0.3907, 0.3907, 0.4296, 0.5353, 0.4431, 0.2984,\n",
    "         0.3118, 0.4497, 0.4209, 0.4245, 0.4201, 0.4667, 0.4674],\n",
    "        [0.4475, 0.3519, 0.0721, 0.4272, 0.6326, 0.3818, 0.4397, 0.5150, 0.4977,\n",
    "         0.5727, 0.4836, 0.4043, 0.3544, 0.3463, 0.4361, 0.4372, 0.4586, 0.3856,\n",
    "         0.3184, 0.4014, 0.4500, 0.4555, 0.4481, 0.4496, 0.4795],\n",
    "        [0.5153, 0.4026, 0.0264, 0.4768, 0.6169, 0.3555, 0.3632, 0.5173, 0.5419,\n",
    "         0.5490, 0.5485, 0.4131, 0.4380, 0.3641, 0.4668, 0.4926, 0.4761, 0.3625,\n",
    "         0.3194, 0.4360, 0.4490, 0.4466, 0.4360, 0.4557, 0.4726],\n",
    "        [0.4880, 0.4782, 0.5367, 0.5680, 0.5163, 0.2965, 0.3687, 0.4766, 0.6361,\n",
    "         0.7667, 0.3940, 0.1334, 0.7106, 0.0464, 0.9461, 0.0291, 0.4996, 0.1442,\n",
    "         0.7352, 0.6208, 0.3083, 0.6482, 0.5200, 0.6449, 0.0000],\n",
    "        [0.4935, 0.5167, 0.5929, 0.6714, 0.6120, 0.2839, 0.5729, 0.2244, 0.6341,\n",
    "         0.0000, 0.5418, 0.6294, 0.9383, 0.4728, 0.2742, 0.5755, 0.4368, 0.1112,\n",
    "         0.2553, 0.2710, 0.6688, 0.5928, 0.3789, 0.1551, 0.4769]],\n",
    "       device='cuda:0')"
   ]
  },
  {
   "cell_type": "code",
   "execution_count": 30,
   "metadata": {},
   "outputs": [],
   "source": [
    "df_test = pd.concat([pd.read_csv(x, header=None).transpose() for x in base_dir.glob(f'TestData/*.csv')], ignore_index=True)\n",
    "X_test = df_test.to_numpy()\n",
    "X_test = pca.transform(X_test)\n",
    "X_test = scaler.transform(X_test)\n",
    "X_test = torch.from_numpy(X_test).float()"
   ]
  },
  {
   "cell_type": "code",
   "execution_count": 31,
   "metadata": {},
   "outputs": [],
   "source": [
    "with torch.no_grad():\n",
    "    model.eval()\n",
    "    X_test = X_test.to(device)\n",
    "    y_test_pred = model(X_test)\n",
    "    _, y_pred_tags = torch.max(y_test_pred, dim=1)\n",
    "    y_pred = y_pred_tags.cpu().numpy().squeeze().tolist()"
   ]
  },
  {
   "cell_type": "code",
   "execution_count": 32,
   "metadata": {},
   "outputs": [
    {
     "output_type": "stream",
     "name": "stdout",
     "text": [
      "4\n4\n4\n4\n4\n4\n4\n4\n4\n4\n4\n4\n4\n4\n4\n4\n4\n4\n4\n4\n4\n4\n4\n4\n4\n4\n4\n4\n4\n4\n4\n4\n4\n4\n4\n4\n4\n4\n4\n4\n4\n4\n4\n4\n4\n4\n4\n4\n4\n4\n4\n4\n4\n4\n4\n4\n4\n4\n4\n4\n4\n4\n4\n4\n4\n4\n4\n4\n4\n4\n4\n4\n4\n4\n4\n4\n4\n4\n4\n4\n4\n4\n4\n4\n4\n3\n4\n4\n4\n4\n4\n4\n4\n4\n4\n4\n4\n4\n4\n4\n4\n4\n4\n4\n4\n4\n4\n4\n4\n4\n4\n4\n4\n4\n4\n4\n4\n4\n4\n4\n"
     ]
    }
   ],
   "source": [
    "for x in y_pred:\n",
    "    print(x+1)"
   ]
  },
  {
   "cell_type": "code",
   "execution_count": null,
   "metadata": {},
   "outputs": [],
   "source": []
  }
 ]
}