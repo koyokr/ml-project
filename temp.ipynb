{
 "cells": [
  {
   "cell_type": "code",
   "execution_count": 1,
   "id": "6ed92222-1952-4672-b438-56c5347d0390",
   "metadata": {},
   "outputs": [],
   "source": [
    "import numpy as np"
   ]
  },
  {
   "cell_type": "code",
   "execution_count": 2,
   "id": "692dd361-e60a-43db-ad6e-03068e050dd4",
   "metadata": {},
   "outputs": [],
   "source": [
    "x = np.asarray([3, -4, -1.2, 0, 2.3])"
   ]
  },
  {
   "cell_type": "code",
   "execution_count": 9,
   "id": "0b51d714-86e5-456a-babc-0e19921384ec",
   "metadata": {},
   "outputs": [
    {
     "data": {
      "text/plain": [
       "4.0"
      ]
     },
     "execution_count": 9,
     "metadata": {},
     "output_type": "execute_result"
    }
   ],
   "source": [
    "np.linalg.norm(x, np.inf)"
   ]
  },
  {
   "cell_type": "code",
   "execution_count": 6,
   "id": "9f203199-3a2a-45ad-b542-c27a6d79832c",
   "metadata": {},
   "outputs": [
    {
     "data": {
      "text/plain": [
       "5.289999999999999"
      ]
     },
     "execution_count": 6,
     "metadata": {},
     "output_type": "execute_result"
    }
   ],
   "source": [
    "2.3 ** 2"
   ]
  },
  {
   "cell_type": "code",
   "execution_count": 7,
   "id": "bc647041-674c-44f5-a2fc-c979c2935133",
   "metadata": {},
   "outputs": [
    {
     "data": {
      "text/plain": [
       "5.632938842203065"
      ]
     },
     "execution_count": 7,
     "metadata": {},
     "output_type": "execute_result"
    }
   ],
   "source": [
    "np.sqrt(9 + 16 + 1.44 + 5.29)"
   ]
  },
  {
   "cell_type": "code",
   "execution_count": 10,
   "id": "4c1724c7-f56d-49a5-9666-a24c2f7f93dd",
   "metadata": {},
   "outputs": [
    {
     "data": {
      "text/plain": [
       "inf"
      ]
     },
     "execution_count": 10,
     "metadata": {},
     "output_type": "execute_result"
    }
   ],
   "source": [
    "np.inf"
   ]
  },
  {
   "cell_type": "code",
   "execution_count": 12,
   "id": "15ef9d15-cbf5-4324-9775-40eadf76ab4b",
   "metadata": {},
   "outputs": [
    {
     "data": {
      "text/plain": [
       "1.4309436775713986"
      ]
     },
     "execution_count": 12,
     "metadata": {},
     "output_type": "execute_result"
    }
   ],
   "source": [
    "(1.2**2 + 0.7**2 +1.0**2) ** ( 1/3)"
   ]
  },
  {
   "cell_type": "code",
   "execution_count": 13,
   "id": "273dd6e9-70c1-447f-852b-4347572fe710",
   "metadata": {},
   "outputs": [
    {
     "data": {
      "text/plain": [
       "0.1296"
      ]
     },
     "execution_count": 13,
     "metadata": {},
     "output_type": "execute_result"
    }
   ],
   "source": [
    "0.6 ** 4"
   ]
  },
  {
   "cell_type": "code",
   "execution_count": 16,
   "id": "78ff343d-e5a0-4174-9480-8e7e93da26c9",
   "metadata": {},
   "outputs": [],
   "source": [
    "from scipy.stats import entropy"
   ]
  },
  {
   "cell_type": "code",
   "execution_count": 19,
   "id": "19af931c-283c-4f52-b0d5-684b736e5104",
   "metadata": {},
   "outputs": [
    {
     "data": {
      "text/plain": [
       "2.584962500721156"
      ]
     },
     "execution_count": 19,
     "metadata": {},
     "output_type": "execute_result"
    }
   ],
   "source": [
    "entropy([1/6]*6, base=2)"
   ]
  },
  {
   "cell_type": "code",
   "execution_count": 21,
   "id": "5782bf14-f774-4216-9cb4-e6ba86d6639e",
   "metadata": {},
   "outputs": [],
   "source": []
  },
  {
   "cell_type": "code",
   "execution_count": 33,
   "id": "456f8126-a4fb-4251-9645-49a84a214c7f",
   "metadata": {},
   "outputs": [],
   "source": [
    "def kl_divergence(p, q):\n",
    "    return np.sum(np.where(p != 0, p * np.log2(p / q), 0))\n",
    "\n",
    "def cross_entropy(x, y):\n",
    "    \"\"\" Computes cross entropy between two distributions.\n",
    "    Input: x: iterabale of N non-negative values\n",
    "           y: iterabale of N non-negative values\n",
    "    Returns: scalar\n",
    "    \"\"\"\n",
    "\n",
    "    if np.any(x < 0) or np.any(y < 0):\n",
    "        raise ValueError('Negative values exist.')\n",
    "\n",
    "    # Force to proper probability mass function.\n",
    "    x = np.array(x, dtype=float)\n",
    "    y = np.array(y, dtype=float)\n",
    "    x /= np.sum(x)\n",
    "    y /= np.sum(y)\n",
    "\n",
    "    # Ignore zero 'y' elements.\n",
    "    mask = y > 0\n",
    "    x = x[mask]\n",
    "    y = y[mask]    \n",
    "    ce = -np.sum(x * np.log2(y)) \n",
    "    return ce"
   ]
  },
  {
   "cell_type": "code",
   "execution_count": 37,
   "id": "2446a6b3-aa7e-44d5-ba68-ceb6ed4463a4",
   "metadata": {},
   "outputs": [
    {
     "data": {
      "text/plain": [
       "2.108236959750769"
      ]
     },
     "execution_count": 37,
     "metadata": {},
     "output_type": "execute_result"
    }
   ],
   "source": [
    "cross_entropy(np.asarray([0.1536, 0.3456, 0.3456, 0.1296, 0.0256]),\n",
    "              np.asarray([0.25, 0.375, 0.25, 0.0625, 0.0625]))"
   ]
  },
  {
   "cell_type": "code",
   "execution_count": 38,
   "id": "17b217da-cdb0-4e47-a951-736570fadbb7",
   "metadata": {},
   "outputs": [
    {
     "data": {
      "text/plain": [
       "2.4600093381463686"
      ]
     },
     "execution_count": 38,
     "metadata": {},
     "output_type": "execute_result"
    }
   ],
   "source": [
    "cross_entropy(np.asarray([0.1536, 0.3456, 0.3456, 0.1296, 0.0256]),\n",
    "              np.asarray([0.3456, 0.3456, 0.1536, 0.0256, 0.1296]))"
   ]
  },
  {
   "cell_type": "code",
   "execution_count": 39,
   "id": "f4e62ac7-b15a-4c40-97b5-79445adb30b3",
   "metadata": {},
   "outputs": [
    {
     "data": {
      "text/plain": [
       "0.11619762218132552"
      ]
     },
     "execution_count": 39,
     "metadata": {},
     "output_type": "execute_result"
    }
   ],
   "source": [
    "kl_divergence(np.asarray([0.1536, 0.3456, 0.3456, 0.1296, 0.0256]),\n",
    "              np.asarray([0.25, 0.375, 0.25, 0.0625, 0.0625]))"
   ]
  },
  {
   "cell_type": "code",
   "execution_count": 40,
   "id": "60df0e0d-f878-464f-8a11-abc64c58f173",
   "metadata": {},
   "outputs": [
    {
     "data": {
      "text/plain": [
       "0.4679700005769249"
      ]
     },
     "execution_count": 40,
     "metadata": {},
     "output_type": "execute_result"
    }
   ],
   "source": [
    "kl_divergence(np.asarray([0.1536, 0.3456, 0.3456, 0.1296, 0.0256]),\n",
    "              np.asarray([0.3456, 0.3456, 0.1536, 0.0256, 0.1296]))"
   ]
  },
  {
   "cell_type": "code",
   "execution_count": 46,
   "id": "65678a6b-2d15-494a-8ce9-a53b67f177fa",
   "metadata": {},
   "outputs": [
    {
     "data": {
      "text/plain": [
       "0.5010004999999998"
      ]
     },
     "execution_count": 46,
     "metadata": {},
     "output_type": "execute_result"
    }
   ],
   "source": [
    "(lambda x: 0.5 * x**2)(1.001)"
   ]
  },
  {
   "cell_type": "code",
   "execution_count": null,
   "id": "3fd29c5f-a3dd-4d8e-9a86-f77c569f0bb4",
   "metadata": {},
   "outputs": [],
   "source": []
  }
 ],
 "metadata": {
  "kernelspec": {
   "display_name": "Python 3",
   "language": "python",
   "name": "python3"
  },
  "language_info": {
   "codemirror_mode": {
    "name": "ipython",
    "version": 3
   },
   "file_extension": ".py",
   "mimetype": "text/x-python",
   "name": "python",
   "nbconvert_exporter": "python",
   "pygments_lexer": "ipython3",
   "version": "3.9.2"
  }
 },
 "nbformat": 4,
 "nbformat_minor": 5
}
